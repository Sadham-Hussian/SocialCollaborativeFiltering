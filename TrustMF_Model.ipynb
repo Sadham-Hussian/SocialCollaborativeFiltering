{
  "nbformat": 4,
  "nbformat_minor": 0,
  "metadata": {
    "colab": {
      "name": "TrustMF_Model.ipynb",
      "provenance": [],
      "collapsed_sections": [
        "bSnSeuNM3hOe",
        "SQLLiRFf3ksm"
      ],
      "machine_shape": "hm"
    },
    "kernelspec": {
      "display_name": "Python 3",
      "language": "python",
      "name": "python3"
    },
    "language_info": {
      "codemirror_mode": {
        "name": "ipython",
        "version": 3
      },
      "file_extension": ".py",
      "mimetype": "text/x-python",
      "name": "python",
      "nbconvert_exporter": "python",
      "pygments_lexer": "ipython3",
      "version": "3.7.4"
    }
  },
  "cells": [
    {
      "cell_type": "markdown",
      "metadata": {
        "id": "O0ciwsrZ9kD4"
      },
      "source": [
        "### Import Packages & Define Constants:"
      ]
    },
    {
      "cell_type": "code",
      "metadata": {
        "colab": {
          "base_uri": "https://localhost:8080/"
        },
        "id": "gcrGHA4OEcV1",
        "scrolled": true,
        "outputId": "7efb8322-4a4c-4761-e317-51ae2334093d"
      },
      "source": [
        "from google.colab import drive\n",
        "drive.mount('/content/drive')\n",
        "# drive.mount('/content/drive', force_remount=True)"
      ],
      "execution_count": 5,
      "outputs": [
        {
          "output_type": "stream",
          "text": [
            "Mounted at /content/drive\n"
          ],
          "name": "stdout"
        }
      ]
    },
    {
      "cell_type": "code",
      "metadata": {
        "colab": {
          "base_uri": "https://localhost:8080/"
        },
        "id": "POLcWrZZFWFS",
        "outputId": "2530e9fc-edd7-4072-f8d3-8867f7ae8b4e"
      },
      "source": [
        "!ls"
      ],
      "execution_count": null,
      "outputs": [
        {
          "output_type": "stream",
          "text": [
            "drive  sample_data\n"
          ],
          "name": "stdout"
        }
      ]
    },
    {
      "cell_type": "code",
      "metadata": {
        "id": "RLZlxL-jEZVW"
      },
      "source": [
        "import torch\n",
        "from torch.autograd import Variable\n",
        "from torch import optim\n",
        "import numpy as np\n",
        "import pandas as pd\n",
        "from sklearn.model_selection import train_test_split\n",
        "import time"
      ],
      "execution_count": 1,
      "outputs": []
    },
    {
      "cell_type": "code",
      "metadata": {
        "id": "wDWWpzlPEZVk"
      },
      "source": [
        "R_max = 5 # Maximum rating value possible\n",
        "M = 49289  # No. of users in Epinions Dataset\n",
        "N = 139738  # No. of items in Epinions Dataset\n",
        "D = 10 # Dimensionality of latent space for users and items\n",
        "lamda = 0.001 # Hyperparameter for loss function"
      ],
      "execution_count": 2,
      "outputs": []
    },
    {
      "cell_type": "markdown",
      "metadata": {
        "id": "TeCx2ilBEZVt"
      },
      "source": [
        "### Read Epinions Dataset into Ratings Matrix and Trust Matrix:"
      ]
    },
    {
      "cell_type": "code",
      "metadata": {
        "id": "mjZX0IBLEZVv"
      },
      "source": [
        "ratings_file = \"drive/My Drive/SCFT_Project/data/epinions_ratings_data.txt\"\n",
        "trust_file = \"drive/My Drive/SCFT_Project/data/standardized_epinions_trust_data.txt\""
      ],
      "execution_count": null,
      "outputs": []
    },
    {
      "cell_type": "code",
      "metadata": {
        "id": "5z2rly9n3ptZ"
      },
      "source": [
        "def read_ratings_data():\n",
        "    global ratings_file\n",
        "    ratings_data = pd.read_csv(ratings_file, sep=\" \", header=None)\n",
        "    ratings_data.columns = [\"user_id\", \"item_id\", \"rating\"]\n",
        "    return ratings_data"
      ],
      "execution_count": null,
      "outputs": []
    },
    {
      "cell_type": "code",
      "metadata": {
        "id": "cELMhC7l4uqo"
      },
      "source": [
        "ratings_data = read_ratings_data()"
      ],
      "execution_count": null,
      "outputs": []
    },
    {
      "cell_type": "code",
      "metadata": {
        "colab": {
          "base_uri": "https://localhost:8080/"
        },
        "id": "3eposBwb7byz",
        "outputId": "0ff22ba8-383e-4caa-8b99-c10ca8d1ccf5"
      },
      "source": [
        "ratings_data[\"rating\"] /= R_max\n",
        "convert_dict = {\"user_id\": int,\n",
        "                \"item_id\": int,\n",
        "                \"rating\": float}\n",
        "ratings_data = ratings_data.astype(convert_dict)\n",
        "print(ratings_data.dtypes)"
      ],
      "execution_count": null,
      "outputs": [
        {
          "output_type": "stream",
          "text": [
            "user_id      int64\n",
            "item_id      int64\n",
            "rating     float64\n",
            "dtype: object\n"
          ],
          "name": "stdout"
        }
      ]
    },
    {
      "cell_type": "code",
      "metadata": {
        "colab": {
          "base_uri": "https://localhost:8080/",
          "height": 173
        },
        "id": "eQpjOC-T4zc2",
        "outputId": "78aff7dd-f8d9-4b68-ea6c-ac8f6fbee849"
      },
      "source": [
        "ratings_data.head(4)"
      ],
      "execution_count": null,
      "outputs": [
        {
          "output_type": "execute_result",
          "data": {
            "text/html": [
              "<div>\n",
              "<style scoped>\n",
              "    .dataframe tbody tr th:only-of-type {\n",
              "        vertical-align: middle;\n",
              "    }\n",
              "\n",
              "    .dataframe tbody tr th {\n",
              "        vertical-align: top;\n",
              "    }\n",
              "\n",
              "    .dataframe thead th {\n",
              "        text-align: right;\n",
              "    }\n",
              "</style>\n",
              "<table border=\"1\" class=\"dataframe\">\n",
              "  <thead>\n",
              "    <tr style=\"text-align: right;\">\n",
              "      <th></th>\n",
              "      <th>user_id</th>\n",
              "      <th>item_id</th>\n",
              "      <th>rating</th>\n",
              "    </tr>\n",
              "  </thead>\n",
              "  <tbody>\n",
              "    <tr>\n",
              "      <th>0</th>\n",
              "      <td>1</td>\n",
              "      <td>101</td>\n",
              "      <td>1.0</td>\n",
              "    </tr>\n",
              "    <tr>\n",
              "      <th>1</th>\n",
              "      <td>1</td>\n",
              "      <td>102</td>\n",
              "      <td>0.6</td>\n",
              "    </tr>\n",
              "    <tr>\n",
              "      <th>2</th>\n",
              "      <td>1</td>\n",
              "      <td>10</td>\n",
              "      <td>0.6</td>\n",
              "    </tr>\n",
              "    <tr>\n",
              "      <th>3</th>\n",
              "      <td>1</td>\n",
              "      <td>103</td>\n",
              "      <td>1.0</td>\n",
              "    </tr>\n",
              "  </tbody>\n",
              "</table>\n",
              "</div>"
            ],
            "text/plain": [
              "   user_id  item_id  rating\n",
              "0        1      101     1.0\n",
              "1        1      102     0.6\n",
              "2        1       10     0.6\n",
              "3        1      103     1.0"
            ]
          },
          "metadata": {
            "tags": []
          },
          "execution_count": 11
        }
      ]
    },
    {
      "cell_type": "code",
      "metadata": {
        "colab": {
          "base_uri": "https://localhost:8080/",
          "height": 173
        },
        "id": "CT1-sHnU5eoY",
        "outputId": "84f240fd-0e2b-4a23-a106-a8c31ce48a67"
      },
      "source": [
        "ratings_data.tail(4)"
      ],
      "execution_count": null,
      "outputs": [
        {
          "output_type": "execute_result",
          "data": {
            "text/html": [
              "<div>\n",
              "<style scoped>\n",
              "    .dataframe tbody tr th:only-of-type {\n",
              "        vertical-align: middle;\n",
              "    }\n",
              "\n",
              "    .dataframe tbody tr th {\n",
              "        vertical-align: top;\n",
              "    }\n",
              "\n",
              "    .dataframe thead th {\n",
              "        text-align: right;\n",
              "    }\n",
              "</style>\n",
              "<table border=\"1\" class=\"dataframe\">\n",
              "  <thead>\n",
              "    <tr style=\"text-align: right;\">\n",
              "      <th></th>\n",
              "      <th>user_id</th>\n",
              "      <th>item_id</th>\n",
              "      <th>rating</th>\n",
              "    </tr>\n",
              "  </thead>\n",
              "  <tbody>\n",
              "    <tr>\n",
              "      <th>664819</th>\n",
              "      <td>49289</td>\n",
              "      <td>3862</td>\n",
              "      <td>0.8</td>\n",
              "    </tr>\n",
              "    <tr>\n",
              "      <th>664820</th>\n",
              "      <td>49289</td>\n",
              "      <td>3939</td>\n",
              "      <td>1.0</td>\n",
              "    </tr>\n",
              "    <tr>\n",
              "      <th>664821</th>\n",
              "      <td>49289</td>\n",
              "      <td>60213</td>\n",
              "      <td>0.8</td>\n",
              "    </tr>\n",
              "    <tr>\n",
              "      <th>664822</th>\n",
              "      <td>49289</td>\n",
              "      <td>62722</td>\n",
              "      <td>0.8</td>\n",
              "    </tr>\n",
              "  </tbody>\n",
              "</table>\n",
              "</div>"
            ],
            "text/plain": [
              "        user_id  item_id  rating\n",
              "664819    49289     3862     0.8\n",
              "664820    49289     3939     1.0\n",
              "664821    49289    60213     0.8\n",
              "664822    49289    62722     0.8"
            ]
          },
          "metadata": {
            "tags": []
          },
          "execution_count": 12
        }
      ]
    },
    {
      "cell_type": "code",
      "metadata": {
        "id": "AGAgFvS062E9"
      },
      "source": [
        "def read_trust_data():\n",
        "    global trust_file\n",
        "    trust_data = pd.read_csv(trust_file, sep=\" \", header=None)\n",
        "    trust_data.columns = [\"user1_id\", \"user2_id\", \"trust_val\"]\n",
        "    return trust_data"
      ],
      "execution_count": null,
      "outputs": []
    },
    {
      "cell_type": "code",
      "metadata": {
        "id": "6Sz1INY87tBO"
      },
      "source": [
        "trust_data = read_trust_data()"
      ],
      "execution_count": null,
      "outputs": []
    },
    {
      "cell_type": "code",
      "metadata": {
        "colab": {
          "base_uri": "https://localhost:8080/",
          "height": 173
        },
        "id": "xBsIwAw47Qlb",
        "outputId": "ac681b78-aad7-4779-90c0-e869d3500365"
      },
      "source": [
        "trust_data.head(4)"
      ],
      "execution_count": null,
      "outputs": [
        {
          "output_type": "execute_result",
          "data": {
            "text/html": [
              "<div>\n",
              "<style scoped>\n",
              "    .dataframe tbody tr th:only-of-type {\n",
              "        vertical-align: middle;\n",
              "    }\n",
              "\n",
              "    .dataframe tbody tr th {\n",
              "        vertical-align: top;\n",
              "    }\n",
              "\n",
              "    .dataframe thead th {\n",
              "        text-align: right;\n",
              "    }\n",
              "</style>\n",
              "<table border=\"1\" class=\"dataframe\">\n",
              "  <thead>\n",
              "    <tr style=\"text-align: right;\">\n",
              "      <th></th>\n",
              "      <th>user1_id</th>\n",
              "      <th>user2_id</th>\n",
              "      <th>trust_val</th>\n",
              "    </tr>\n",
              "  </thead>\n",
              "  <tbody>\n",
              "    <tr>\n",
              "      <th>0</th>\n",
              "      <td>22605</td>\n",
              "      <td>42915</td>\n",
              "      <td>1</td>\n",
              "    </tr>\n",
              "    <tr>\n",
              "      <th>1</th>\n",
              "      <td>22605</td>\n",
              "      <td>5052</td>\n",
              "      <td>1</td>\n",
              "    </tr>\n",
              "    <tr>\n",
              "      <th>2</th>\n",
              "      <td>22605</td>\n",
              "      <td>42913</td>\n",
              "      <td>1</td>\n",
              "    </tr>\n",
              "    <tr>\n",
              "      <th>3</th>\n",
              "      <td>22605</td>\n",
              "      <td>18420</td>\n",
              "      <td>1</td>\n",
              "    </tr>\n",
              "  </tbody>\n",
              "</table>\n",
              "</div>"
            ],
            "text/plain": [
              "   user1_id  user2_id  trust_val\n",
              "0     22605     42915          1\n",
              "1     22605      5052          1\n",
              "2     22605     42913          1\n",
              "3     22605     18420          1"
            ]
          },
          "metadata": {
            "tags": []
          },
          "execution_count": 15
        }
      ]
    },
    {
      "cell_type": "code",
      "metadata": {
        "colab": {
          "base_uri": "https://localhost:8080/",
          "height": 173
        },
        "id": "47RLJVaQ7V3Z",
        "outputId": "21427e3f-552f-4a4d-c79b-84bd5be30f9a"
      },
      "source": [
        "trust_data.tail(4)"
      ],
      "execution_count": null,
      "outputs": [
        {
          "output_type": "execute_result",
          "data": {
            "text/html": [
              "<div>\n",
              "<style scoped>\n",
              "    .dataframe tbody tr th:only-of-type {\n",
              "        vertical-align: middle;\n",
              "    }\n",
              "\n",
              "    .dataframe tbody tr th {\n",
              "        vertical-align: top;\n",
              "    }\n",
              "\n",
              "    .dataframe thead th {\n",
              "        text-align: right;\n",
              "    }\n",
              "</style>\n",
              "<table border=\"1\" class=\"dataframe\">\n",
              "  <thead>\n",
              "    <tr style=\"text-align: right;\">\n",
              "      <th></th>\n",
              "      <th>user1_id</th>\n",
              "      <th>user2_id</th>\n",
              "      <th>trust_val</th>\n",
              "    </tr>\n",
              "  </thead>\n",
              "  <tbody>\n",
              "    <tr>\n",
              "      <th>487179</th>\n",
              "      <td>36960</td>\n",
              "      <td>1056</td>\n",
              "      <td>1</td>\n",
              "    </tr>\n",
              "    <tr>\n",
              "      <th>487180</th>\n",
              "      <td>36960</td>\n",
              "      <td>422</td>\n",
              "      <td>1</td>\n",
              "    </tr>\n",
              "    <tr>\n",
              "      <th>487181</th>\n",
              "      <td>36960</td>\n",
              "      <td>804</td>\n",
              "      <td>1</td>\n",
              "    </tr>\n",
              "    <tr>\n",
              "      <th>487182</th>\n",
              "      <td>36960</td>\n",
              "      <td>12784</td>\n",
              "      <td>1</td>\n",
              "    </tr>\n",
              "  </tbody>\n",
              "</table>\n",
              "</div>"
            ],
            "text/plain": [
              "        user1_id  user2_id  trust_val\n",
              "487179     36960      1056          1\n",
              "487180     36960       422          1\n",
              "487181     36960       804          1\n",
              "487182     36960     12784          1"
            ]
          },
          "metadata": {
            "tags": []
          },
          "execution_count": 16
        }
      ]
    },
    {
      "cell_type": "code",
      "metadata": {
        "id": "hGRaVso7lNcm"
      },
      "source": [
        "TRAIN_RATIO = 0.80 # Ratio of training to validation set"
      ],
      "execution_count": null,
      "outputs": []
    },
    {
      "cell_type": "code",
      "metadata": {
        "id": "RSwyEAPDjuBT"
      },
      "source": [
        "ratings_data_train, ratings_data_test = train_test_split(ratings_data, train_size=TRAIN_RATIO, shuffle=True, random_state=19)"
      ],
      "execution_count": null,
      "outputs": []
    },
    {
      "cell_type": "code",
      "metadata": {
        "colab": {
          "base_uri": "https://localhost:8080/"
        },
        "id": "X6PSgGpBlZ0y",
        "outputId": "0bf10388-9638-4114-99d4-03eea51448cb"
      },
      "source": [
        "print(len(ratings_data_train))\n",
        "print(len(ratings_data_test))"
      ],
      "execution_count": null,
      "outputs": [
        {
          "output_type": "stream",
          "text": [
            "531858\n",
            "132965\n"
          ],
          "name": "stdout"
        }
      ]
    },
    {
      "cell_type": "code",
      "metadata": {
        "colab": {
          "base_uri": "https://localhost:8080/",
          "height": 204
        },
        "id": "l4uqyFJFoWJz",
        "outputId": "de034ecc-83d3-4d1c-c9c8-486d46aef071"
      },
      "source": [
        "ratings_data_train.head(5)"
      ],
      "execution_count": null,
      "outputs": [
        {
          "output_type": "execute_result",
          "data": {
            "text/html": [
              "<div>\n",
              "<style scoped>\n",
              "    .dataframe tbody tr th:only-of-type {\n",
              "        vertical-align: middle;\n",
              "    }\n",
              "\n",
              "    .dataframe tbody tr th {\n",
              "        vertical-align: top;\n",
              "    }\n",
              "\n",
              "    .dataframe thead th {\n",
              "        text-align: right;\n",
              "    }\n",
              "</style>\n",
              "<table border=\"1\" class=\"dataframe\">\n",
              "  <thead>\n",
              "    <tr style=\"text-align: right;\">\n",
              "      <th></th>\n",
              "      <th>user_id</th>\n",
              "      <th>item_id</th>\n",
              "      <th>rating</th>\n",
              "    </tr>\n",
              "  </thead>\n",
              "  <tbody>\n",
              "    <tr>\n",
              "      <th>94467</th>\n",
              "      <td>804</td>\n",
              "      <td>56181</td>\n",
              "      <td>0.8</td>\n",
              "    </tr>\n",
              "    <tr>\n",
              "      <th>828</th>\n",
              "      <td>11</td>\n",
              "      <td>824</td>\n",
              "      <td>1.0</td>\n",
              "    </tr>\n",
              "    <tr>\n",
              "      <th>382104</th>\n",
              "      <td>9866</td>\n",
              "      <td>43033</td>\n",
              "      <td>1.0</td>\n",
              "    </tr>\n",
              "    <tr>\n",
              "      <th>584599</th>\n",
              "      <td>29534</td>\n",
              "      <td>94653</td>\n",
              "      <td>1.0</td>\n",
              "    </tr>\n",
              "    <tr>\n",
              "      <th>449167</th>\n",
              "      <td>14368</td>\n",
              "      <td>9393</td>\n",
              "      <td>1.0</td>\n",
              "    </tr>\n",
              "  </tbody>\n",
              "</table>\n",
              "</div>"
            ],
            "text/plain": [
              "        user_id  item_id  rating\n",
              "94467       804    56181     0.8\n",
              "828          11      824     1.0\n",
              "382104     9866    43033     1.0\n",
              "584599    29534    94653     1.0\n",
              "449167    14368     9393     1.0"
            ]
          },
          "metadata": {
            "tags": []
          },
          "execution_count": 20
        }
      ]
    },
    {
      "cell_type": "code",
      "metadata": {
        "colab": {
          "base_uri": "https://localhost:8080/",
          "height": 204
        },
        "id": "3LxDeOchocuj",
        "outputId": "b9e70c2c-c186-4423-e1d3-b789492df097"
      },
      "source": [
        "ratings_data_train.tail(5)"
      ],
      "execution_count": null,
      "outputs": [
        {
          "output_type": "execute_result",
          "data": {
            "text/html": [
              "<div>\n",
              "<style scoped>\n",
              "    .dataframe tbody tr th:only-of-type {\n",
              "        vertical-align: middle;\n",
              "    }\n",
              "\n",
              "    .dataframe tbody tr th {\n",
              "        vertical-align: top;\n",
              "    }\n",
              "\n",
              "    .dataframe thead th {\n",
              "        text-align: right;\n",
              "    }\n",
              "</style>\n",
              "<table border=\"1\" class=\"dataframe\">\n",
              "  <thead>\n",
              "    <tr style=\"text-align: right;\">\n",
              "      <th></th>\n",
              "      <th>user_id</th>\n",
              "      <th>item_id</th>\n",
              "      <th>rating</th>\n",
              "    </tr>\n",
              "  </thead>\n",
              "  <tbody>\n",
              "    <tr>\n",
              "      <th>480168</th>\n",
              "      <td>16803</td>\n",
              "      <td>126965</td>\n",
              "      <td>1.0</td>\n",
              "    </tr>\n",
              "    <tr>\n",
              "      <th>623970</th>\n",
              "      <td>37756</td>\n",
              "      <td>2422</td>\n",
              "      <td>0.8</td>\n",
              "    </tr>\n",
              "    <tr>\n",
              "      <th>82677</th>\n",
              "      <td>715</td>\n",
              "      <td>2956</td>\n",
              "      <td>0.8</td>\n",
              "    </tr>\n",
              "    <tr>\n",
              "      <th>207470</th>\n",
              "      <td>2730</td>\n",
              "      <td>49213</td>\n",
              "      <td>0.8</td>\n",
              "    </tr>\n",
              "    <tr>\n",
              "      <th>521821</th>\n",
              "      <td>21081</td>\n",
              "      <td>130213</td>\n",
              "      <td>0.8</td>\n",
              "    </tr>\n",
              "  </tbody>\n",
              "</table>\n",
              "</div>"
            ],
            "text/plain": [
              "        user_id  item_id  rating\n",
              "480168    16803   126965     1.0\n",
              "623970    37756     2422     0.8\n",
              "82677       715     2956     0.8\n",
              "207470     2730    49213     0.8\n",
              "521821    21081   130213     0.8"
            ]
          },
          "metadata": {
            "tags": []
          },
          "execution_count": 21
        }
      ]
    },
    {
      "cell_type": "code",
      "metadata": {
        "colab": {
          "base_uri": "https://localhost:8080/",
          "height": 204
        },
        "id": "0zJGUIQ7ocrU",
        "outputId": "be45a91a-1be1-4327-8e48-974dd754e53f"
      },
      "source": [
        "ratings_data_test.head(5)"
      ],
      "execution_count": null,
      "outputs": [
        {
          "output_type": "execute_result",
          "data": {
            "text/html": [
              "<div>\n",
              "<style scoped>\n",
              "    .dataframe tbody tr th:only-of-type {\n",
              "        vertical-align: middle;\n",
              "    }\n",
              "\n",
              "    .dataframe tbody tr th {\n",
              "        vertical-align: top;\n",
              "    }\n",
              "\n",
              "    .dataframe thead th {\n",
              "        text-align: right;\n",
              "    }\n",
              "</style>\n",
              "<table border=\"1\" class=\"dataframe\">\n",
              "  <thead>\n",
              "    <tr style=\"text-align: right;\">\n",
              "      <th></th>\n",
              "      <th>user_id</th>\n",
              "      <th>item_id</th>\n",
              "      <th>rating</th>\n",
              "    </tr>\n",
              "  </thead>\n",
              "  <tbody>\n",
              "    <tr>\n",
              "      <th>66340</th>\n",
              "      <td>501</td>\n",
              "      <td>6864</td>\n",
              "      <td>1.0</td>\n",
              "    </tr>\n",
              "    <tr>\n",
              "      <th>46401</th>\n",
              "      <td>375</td>\n",
              "      <td>1072</td>\n",
              "      <td>0.6</td>\n",
              "    </tr>\n",
              "    <tr>\n",
              "      <th>102744</th>\n",
              "      <td>953</td>\n",
              "      <td>59912</td>\n",
              "      <td>1.0</td>\n",
              "    </tr>\n",
              "    <tr>\n",
              "      <th>207332</th>\n",
              "      <td>2727</td>\n",
              "      <td>52999</td>\n",
              "      <td>1.0</td>\n",
              "    </tr>\n",
              "    <tr>\n",
              "      <th>429791</th>\n",
              "      <td>12926</td>\n",
              "      <td>2750</td>\n",
              "      <td>0.8</td>\n",
              "    </tr>\n",
              "  </tbody>\n",
              "</table>\n",
              "</div>"
            ],
            "text/plain": [
              "        user_id  item_id  rating\n",
              "66340       501     6864     1.0\n",
              "46401       375     1072     0.6\n",
              "102744      953    59912     1.0\n",
              "207332     2727    52999     1.0\n",
              "429791    12926     2750     0.8"
            ]
          },
          "metadata": {
            "tags": []
          },
          "execution_count": 22
        }
      ]
    },
    {
      "cell_type": "code",
      "metadata": {
        "colab": {
          "base_uri": "https://localhost:8080/",
          "height": 204
        },
        "id": "eyUIiXqVocnV",
        "outputId": "0311a6e7-1906-40d3-9584-feae018378e9"
      },
      "source": [
        "ratings_data_test.tail(5)"
      ],
      "execution_count": null,
      "outputs": [
        {
          "output_type": "execute_result",
          "data": {
            "text/html": [
              "<div>\n",
              "<style scoped>\n",
              "    .dataframe tbody tr th:only-of-type {\n",
              "        vertical-align: middle;\n",
              "    }\n",
              "\n",
              "    .dataframe tbody tr th {\n",
              "        vertical-align: top;\n",
              "    }\n",
              "\n",
              "    .dataframe thead th {\n",
              "        text-align: right;\n",
              "    }\n",
              "</style>\n",
              "<table border=\"1\" class=\"dataframe\">\n",
              "  <thead>\n",
              "    <tr style=\"text-align: right;\">\n",
              "      <th></th>\n",
              "      <th>user_id</th>\n",
              "      <th>item_id</th>\n",
              "      <th>rating</th>\n",
              "    </tr>\n",
              "  </thead>\n",
              "  <tbody>\n",
              "    <tr>\n",
              "      <th>360986</th>\n",
              "      <td>8740</td>\n",
              "      <td>88696</td>\n",
              "      <td>0.8</td>\n",
              "    </tr>\n",
              "    <tr>\n",
              "      <th>500537</th>\n",
              "      <td>18774</td>\n",
              "      <td>8533</td>\n",
              "      <td>1.0</td>\n",
              "    </tr>\n",
              "    <tr>\n",
              "      <th>592152</th>\n",
              "      <td>30754</td>\n",
              "      <td>61116</td>\n",
              "      <td>1.0</td>\n",
              "    </tr>\n",
              "    <tr>\n",
              "      <th>385853</th>\n",
              "      <td>10057</td>\n",
              "      <td>96342</td>\n",
              "      <td>0.8</td>\n",
              "    </tr>\n",
              "    <tr>\n",
              "      <th>622059</th>\n",
              "      <td>37355</td>\n",
              "      <td>58284</td>\n",
              "      <td>0.8</td>\n",
              "    </tr>\n",
              "  </tbody>\n",
              "</table>\n",
              "</div>"
            ],
            "text/plain": [
              "        user_id  item_id  rating\n",
              "360986     8740    88696     0.8\n",
              "500537    18774     8533     1.0\n",
              "592152    30754    61116     1.0\n",
              "385853    10057    96342     0.8\n",
              "622059    37355    58284     0.8"
            ]
          },
          "metadata": {
            "tags": []
          },
          "execution_count": 23
        }
      ]
    },
    {
      "cell_type": "markdown",
      "metadata": {
        "id": "bSnSeuNM3hOe"
      },
      "source": [
        "### Train Truster Model:"
      ]
    },
    {
      "cell_type": "code",
      "metadata": {
        "id": "VJnlS5rw3gt4"
      },
      "source": [
        "torch.manual_seed(42) # Set any random seed for reproducibility\n",
        "# Browse Reviews Behaviour Matrix (Influence from other users)- Approximates User feature matrix U in Truster Model\n",
        "B_trusterMF = Variable(torch.empty((D, M)).normal_(mean=0.0, std=0.1), requires_grad=True) \n",
        "# Item feature matrix\n",
        "V_trusterMF = Variable(torch.empty((D, N)).normal_(mean=0.0, std=0.1), requires_grad=True) \n",
        "# Write Reviews Behaviour Matrix (Influence other users)\n",
        "W_trusterMF = Variable(torch.empty((D, M)).normal_(mean=0.0, std=0.1), requires_grad=True)"
      ],
      "execution_count": null,
      "outputs": []
    },
    {
      "cell_type": "code",
      "metadata": {
        "id": "lmEGHgs-BL9r"
      },
      "source": [
        "# nbi - no. of ratings given by user i\n",
        "# nvj - no. of ratings given to item j\n",
        "def calculate_nbi_and_nvj():\n",
        "    global ratings_data_train, M, N\n",
        "    nbi = np.zeros(M)\n",
        "    nvj = np.zeros(N)\n",
        "    for idx in range(len(ratings_data_train)):\n",
        "        nbi[int(ratings_data_train.iloc[idx][\"user_id\"])-1] += 1\n",
        "        nvj[int(ratings_data_train.iloc[idx][\"item_id\"])-1] += 1\n",
        "    return nbi, nvj"
      ],
      "execution_count": null,
      "outputs": []
    },
    {
      "cell_type": "code",
      "metadata": {
        "id": "Ctph6ZLEBL6W"
      },
      "source": [
        "# mbi - no. of users who are trusted by user i\n",
        "# mwk - no. of users who trust user k\n",
        "def calculate_mbi_and_mwk():\n",
        "    global trust_data, M\n",
        "    mbi = np.zeros(M)\n",
        "    mwk = np.zeros(M)\n",
        "    for idx in range(len(trust_data)):\n",
        "        mbi[trust_data.iloc[idx][\"user1_id\"]-1] += 1\n",
        "        mwk[trust_data.iloc[idx][\"user2_id\"]-1] += 1\n",
        "    return mbi, mwk"
      ],
      "execution_count": null,
      "outputs": []
    },
    {
      "cell_type": "code",
      "metadata": {
        "id": "hRS2iRW-K_Fz"
      },
      "source": [
        "# start = time.time()\n",
        "# nbi, nvj = calculate_nbi_and_nvj()\n",
        "# end = time.time()\n",
        "# print(end-start, \" seconds\")"
      ],
      "execution_count": null,
      "outputs": []
    },
    {
      "cell_type": "code",
      "metadata": {
        "id": "NowyF5LlNfAh"
      },
      "source": [
        "#np.save('drive/My Drive/SCFT_Project/npy_files/nbi.npy', nbi)\n",
        "# # nbi = np.load('drive/My Drive/SCFT_Project/npy_files/nbi.npy')\n",
        "#np.save('drive/My Drive/SCFT_Project/npy_files/nvj.npy', nvj)\n",
        "# # nvj = np.load('drive/My Drive/SCFT_Project/npy_files/nvj.npy')"
      ],
      "execution_count": null,
      "outputs": []
    },
    {
      "cell_type": "code",
      "metadata": {
        "colab": {
          "base_uri": "https://localhost:8080/"
        },
        "id": "a1MXERniBL0n",
        "outputId": "1ad141b7-6b48-4cfc-b2b3-6154eb2be6aa"
      },
      "source": [
        "# start = time.time()\n",
        "# mbi, mwk = calculate_mbi_and_mwk()\n",
        "# end = time.time()\n",
        "# print(end-start, \" seconds\")"
      ],
      "execution_count": null,
      "outputs": [
        {
          "output_type": "stream",
          "text": [
            "107.72999572753906  seconds\n"
          ],
          "name": "stdout"
        }
      ]
    },
    {
      "cell_type": "code",
      "metadata": {
        "id": "YBE9hfQSPrBO"
      },
      "source": [
        "# np.save('drive/My Drive/SCFT_Project/npy_files/mbi.npy', mbi)\n",
        "# # mbi = np.load('drive/My Drive/SCFT_Project/npy_files/mbi.npy')\n",
        "# np.save('drive/My Drive/SCFT_Project/npy_files/mwk.npy', mwk)\n",
        "# # mwk = np.load('drive/My Drive/SCFT_Project/npy_files/mwk.npy')"
      ],
      "execution_count": null,
      "outputs": []
    },
    {
      "cell_type": "code",
      "metadata": {
        "id": "rLSFHuUZXgGs"
      },
      "source": [
        "# nbi - no. of ratings given by user i\n",
        "nbi = np.load('drive/My Drive/SCFT_Project/npy_files/nbi.npy')\n",
        "# nvj - no. of ratings given to item j\n",
        "nvj = np.load('drive/My Drive/SCFT_Project/npy_files/nvj.npy')\n",
        "# mbi - no. of users who are trusted by user i\n",
        "mbi = np.load('drive/My Drive/SCFT_Project/npy_files/mbi.npy')\n",
        "# mwk - no. of users who trust user k\n",
        "mwk = np.load('drive/My Drive/SCFT_Project/npy_files/mwk.npy')"
      ],
      "execution_count": null,
      "outputs": []
    },
    {
      "cell_type": "code",
      "metadata": {
        "id": "OHlxdNfFfFfj"
      },
      "source": [
        "epochs = 2 # No. of epochs\n",
        "alpha_lr = 0.005 # Learning rate\n",
        "optimizer = optim.SGD([B_trusterMF, V_trusterMF, W_trusterMF], lr=alpha_lr)"
      ],
      "execution_count": null,
      "outputs": []
    },
    {
      "cell_type": "code",
      "metadata": {
        "colab": {
          "base_uri": "https://localhost:8080/"
        },
        "id": "DD85XvC5fFUL",
        "outputId": "fa2a7060-fc9f-4f63-e4ca-fffed580d812"
      },
      "source": [
        "for iteration in range(0, 0+epochs):\n",
        "    start = time.time()\n",
        "    loss = torch.tensor(0.0)\n",
        "    optimizer.zero_grad()\n",
        "    for idx in range(len(ratings_data_train)):\n",
        "        user_id = int(ratings_data_train.iloc[idx][\"user_id\"])\n",
        "        item_id = int(ratings_data_train.iloc[idx][\"item_id\"])\n",
        "        rating = ratings_data_train.iloc[idx][\"rating\"]\n",
        "        loss += (torch.sigmoid(torch.dot(B_trusterMF[:, user_id-1], V_trusterMF[:, item_id-1])) - rating).pow(2)\n",
        "    for idx in range(len(trust_data)):\n",
        "        user1_id = trust_data.iloc[idx][\"user1_id\"]\n",
        "        user2_id = trust_data.iloc[idx][\"user2_id\"]\n",
        "        trust_val = trust_data.iloc[idx][\"trust_val\"]\n",
        "        loss += (torch.sigmoid(torch.dot(B_trusterMF[:, user1_id-1], W_trusterMF[:, user2_id-1])) - trust_val).pow(2)\n",
        "    reg_loss = torch.tensor(0.0)\n",
        "    for user_id in range(M):\n",
        "        reg_loss += ((nbi[user_id]+mbi[user_id]) * (B_trusterMF[:, user_id].pow(2).sum()))\n",
        "        reg_loss += (mwk[user_id] * (W_trusterMF[:, user_id].pow(2).sum()))\n",
        "    for item_id in range(N):\n",
        "        reg_loss += (nvj[item_id] * (V_trusterMF[:, item_id].pow(2).sum()))\n",
        "    loss += (lamda * reg_loss)\n",
        "    loss.backward() # Loss corresponding to Eq. (4) in the paper\n",
        "    optimizer.step()\n",
        "    end = time.time()\n",
        "    print(\"Iteration: \", iteration, \", loss: \", loss, \", time(seconds): \", end-start)\n",
        "    torch.save(B_trusterMF, \"drive/My Drive/SCFT_Project/B_trusterMF_\"+str(iteration)+\".pth\")\n",
        "    torch.save(V_trusterMF, \"drive/My Drive/SCFT_Project/V_trusterMF_\"+str(iteration)+\".pth\")\n",
        "    torch.save(W_trusterMF, \"drive/My Drive/SCFT_Project/W_trusterMF_\"+str(iteration)+\".pth\")"
      ],
      "execution_count": null,
      "outputs": [
        {
          "output_type": "stream",
          "text": [
            "Iteration:  0 , loss:  tensor(200275.1406, grad_fn=<AddBackward0>) , time(seconds):  2167.779409646988\n",
            "Iteration:  1 , loss:  tensor(200225.3594, grad_fn=<AddBackward0>) , time(seconds):  2113.917291879654\n"
          ],
          "name": "stdout"
        }
      ]
    },
    {
      "cell_type": "code",
      "metadata": {
        "id": "23WCy80z-ciR"
      },
      "source": [
        "B_trusterMF = Variable(torch.load(\"drive/My Drive/SCFT_Project/B_trusterMF_\"+str(1)+\".pth\"), requires_grad=True)\n",
        "V_trusterMF = Variable(torch.load(\"drive/My Drive/SCFT_Project/V_trusterMF_\"+str(1)+\".pth\"), requires_grad=True)\n",
        "W_trusterMF = Variable(torch.load(\"drive/My Drive/SCFT_Project/W_trusterMF_\"+str(1)+\".pth\"), requires_grad=True)"
      ],
      "execution_count": null,
      "outputs": []
    },
    {
      "cell_type": "code",
      "metadata": {
        "id": "P9TBDbWVRFgk"
      },
      "source": [
        "nbi = np.load('drive/My Drive/SCFT_Project/npy_files/nbi.npy')\n",
        "nvj = np.load('drive/My Drive/SCFT_Project/npy_files/nvj.npy')\n",
        "mbi = np.load('drive/My Drive/SCFT_Project/npy_files/mbi.npy')\n",
        "mwk = np.load('drive/My Drive/SCFT_Project/npy_files/mwk.npy')"
      ],
      "execution_count": null,
      "outputs": []
    },
    {
      "cell_type": "code",
      "metadata": {
        "id": "yxBGQuzJRyI1"
      },
      "source": [
        "epochs = 4\n",
        "alpha_lr = 0.4\n",
        "optimizer = optim.SGD([B_trusterMF, V_trusterMF, W_trusterMF], lr=alpha_lr)"
      ],
      "execution_count": null,
      "outputs": []
    },
    {
      "cell_type": "code",
      "metadata": {
        "colab": {
          "base_uri": "https://localhost:8080/"
        },
        "id": "cWoljsE9TnmO",
        "outputId": "b7259255-72ac-4552-bfbb-54a9b8adb7ae"
      },
      "source": [
        "for iteration in range(2, 2+epochs):\n",
        "    start = time.time()\n",
        "    loss = torch.tensor(0.0)\n",
        "    optimizer.zero_grad()\n",
        "    for idx in range(len(ratings_data_train)):\n",
        "        user_id = int(ratings_data_train.iloc[idx][\"user_id\"])\n",
        "        item_id = int(ratings_data_train.iloc[idx][\"item_id\"])\n",
        "        rating = ratings_data_train.iloc[idx][\"rating\"]\n",
        "        loss += (torch.sigmoid(torch.dot(B_trusterMF[:, user_id-1], V_trusterMF[:, item_id-1])) - rating).pow(2)\n",
        "    for idx in range(len(trust_data)):\n",
        "        user1_id = trust_data.iloc[idx][\"user1_id\"]\n",
        "        user2_id = trust_data.iloc[idx][\"user2_id\"]\n",
        "        trust_val = trust_data.iloc[idx][\"trust_val\"]\n",
        "        loss += (torch.sigmoid(torch.dot(B_trusterMF[:, user1_id-1], W_trusterMF[:, user2_id-1])) - trust_val).pow(2)\n",
        "    reg_loss = torch.tensor(0.0)\n",
        "    for user_id in range(M):\n",
        "        reg_loss += ((nbi[user_id]+mbi[user_id]) * (B_trusterMF[:, user_id].pow(2).sum()))\n",
        "        reg_loss += (mwk[user_id] * (W_trusterMF[:, user_id].pow(2).sum()))\n",
        "    for item_id in range(N):\n",
        "        reg_loss += (nvj[item_id] * (V_trusterMF[:, item_id].pow(2).sum()))\n",
        "    loss += (lamda * reg_loss)\n",
        "    loss.backward() # Loss corresponding to Eq. (4) in the paper\n",
        "    optimizer.step()\n",
        "    end = time.time()\n",
        "    print(\"Iteration: \", iteration, \", loss: \", loss, \", time(seconds): \", end-start)\n",
        "    torch.save(B_trusterMF, \"drive/My Drive/SCFT_Project/B_trusterMF_\"+str(iteration)+\".pth\")\n",
        "    torch.save(V_trusterMF, \"drive/My Drive/SCFT_Project/V_trusterMF_\"+str(iteration)+\".pth\")\n",
        "    torch.save(W_trusterMF, \"drive/My Drive/SCFT_Project/W_trusterMF_\"+str(iteration)+\".pth\")"
      ],
      "execution_count": null,
      "outputs": [
        {
          "output_type": "stream",
          "text": [
            "Iteration:  2 , loss:  tensor(200174.4219, grad_fn=<AddBackward0>) , time(seconds):  2108.184391260147\n",
            "Iteration:  3 , loss:  tensor(195684.8125, grad_fn=<AddBackward0>) , time(seconds):  2214.1749184131622\n",
            "Iteration:  4 , loss:  tensor(146265.5469, grad_fn=<AddBackward0>) , time(seconds):  2165.8209903240204\n",
            "Iteration:  5 , loss:  tensor(93137.5469, grad_fn=<AddBackward0>) , time(seconds):  2170.444637298584\n"
          ],
          "name": "stdout"
        }
      ]
    },
    {
      "cell_type": "code",
      "metadata": {
        "id": "_-S2RbaCt-EO"
      },
      "source": [
        "B_trusterMF = Variable(torch.load(\"drive/My Drive/SCFT_Project/B_trusterMF_\"+str(5)+\".pth\"), requires_grad=True)\n",
        "V_trusterMF = Variable(torch.load(\"drive/My Drive/SCFT_Project/V_trusterMF_\"+str(5)+\".pth\"), requires_grad=True)\n",
        "W_trusterMF = Variable(torch.load(\"drive/My Drive/SCFT_Project/W_trusterMF_\"+str(5)+\".pth\"), requires_grad=True)\n",
        "nbi = np.load('drive/My Drive/SCFT_Project/npy_files/nbi.npy')\n",
        "nvj = np.load('drive/My Drive/SCFT_Project/npy_files/nvj.npy')\n",
        "mbi = np.load('drive/My Drive/SCFT_Project/npy_files/mbi.npy')\n",
        "mwk = np.load('drive/My Drive/SCFT_Project/npy_files/mwk.npy')"
      ],
      "execution_count": null,
      "outputs": []
    },
    {
      "cell_type": "code",
      "metadata": {
        "id": "bJdhJWXQt-BF"
      },
      "source": [
        "epochs = 2\n",
        "alpha_lr = 0.4\n",
        "optimizer = optim.SGD([B_trusterMF, V_trusterMF, W_trusterMF], lr=alpha_lr)"
      ],
      "execution_count": null,
      "outputs": []
    },
    {
      "cell_type": "code",
      "metadata": {
        "id": "IWpMKzQXt992"
      },
      "source": [
        "for iteration in range(6, 6+epochs):\n",
        "    start = time.time()\n",
        "    loss = torch.tensor(0.0)\n",
        "    optimizer.zero_grad()\n",
        "    for idx in range(len(ratings_data_train)):\n",
        "        user_id = int(ratings_data_train.iloc[idx][\"user_id\"])\n",
        "        item_id = int(ratings_data_train.iloc[idx][\"item_id\"])\n",
        "        rating = ratings_data_train.iloc[idx][\"rating\"]\n",
        "        loss += (torch.sigmoid(torch.dot(B_trusterMF[:, user_id-1], V_trusterMF[:, item_id-1])) - rating).pow(2)\n",
        "    for idx in range(len(trust_data)):\n",
        "        user1_id = trust_data.iloc[idx][\"user1_id\"]\n",
        "        user2_id = trust_data.iloc[idx][\"user2_id\"]\n",
        "        trust_val = trust_data.iloc[idx][\"trust_val\"]\n",
        "        loss += (torch.sigmoid(torch.dot(B_trusterMF[:, user1_id-1], W_trusterMF[:, user2_id-1])) - trust_val).pow(2)\n",
        "    reg_loss = torch.tensor(0.0)\n",
        "    for user_id in range(M):\n",
        "        reg_loss += ((nbi[user_id]+mbi[user_id]) * (B_trusterMF[:, user_id].pow(2).sum()))\n",
        "        reg_loss += (mwk[user_id] * (W_trusterMF[:, user_id].pow(2).sum()))\n",
        "    for item_id in range(N):\n",
        "        reg_loss += (nvj[item_id] * (V_trusterMF[:, item_id].pow(2).sum()))\n",
        "    loss += (lamda * reg_loss)\n",
        "    loss.backward() # Loss corresponding to Eq. (4) in the paper\n",
        "    optimizer.step()\n",
        "    end = time.time()\n",
        "    print(\"Iteration: \", iteration, \", loss: \", loss, \", time(seconds): \", end-start)\n",
        "    torch.save(B_trusterMF, \"drive/My Drive/SCFT_Project/B_trusterMF_\"+str(iteration)+\".pth\")\n",
        "    torch.save(V_trusterMF, \"drive/My Drive/SCFT_Project/V_trusterMF_\"+str(iteration)+\".pth\")\n",
        "    torch.save(W_trusterMF, \"drive/My Drive/SCFT_Project/W_trusterMF_\"+str(iteration)+\".pth\")"
      ],
      "execution_count": null,
      "outputs": []
    },
    {
      "cell_type": "code",
      "metadata": {
        "id": "lcks9n-lt95t"
      },
      "source": [
        "epochs = 2\n",
        "alpha_lr = 0.25\n",
        "optimizer = optim.SGD([B_trusterMF, V_trusterMF, W_trusterMF], lr=alpha_lr)"
      ],
      "execution_count": null,
      "outputs": []
    },
    {
      "cell_type": "code",
      "metadata": {
        "colab": {
          "base_uri": "https://localhost:8080/",
          "height": 52
        },
        "id": "__FtTqhvSsi5",
        "outputId": "511cf359-a279-4aec-a80b-a9a61ba7bf84"
      },
      "source": [
        "for iteration in range(8, 8+epochs):\n",
        "    start = time.time()\n",
        "    loss = torch.tensor(0.0)\n",
        "    optimizer.zero_grad()\n",
        "    for idx in range(len(ratings_data_train)):\n",
        "        user_id = int(ratings_data_train.iloc[idx][\"user_id\"])\n",
        "        item_id = int(ratings_data_train.iloc[idx][\"item_id\"])\n",
        "        rating = ratings_data_train.iloc[idx][\"rating\"]\n",
        "        loss += (torch.sigmoid(torch.dot(B_trusterMF[:, user_id-1], V_trusterMF[:, item_id-1])) - rating).pow(2)\n",
        "    for idx in range(len(trust_data)):\n",
        "        user1_id = trust_data.iloc[idx][\"user1_id\"]\n",
        "        user2_id = trust_data.iloc[idx][\"user2_id\"]\n",
        "        trust_val = trust_data.iloc[idx][\"trust_val\"]\n",
        "        loss += (torch.sigmoid(torch.dot(B_trusterMF[:, user1_id-1], W_trusterMF[:, user2_id-1])) - trust_val).pow(2)\n",
        "    reg_loss = torch.tensor(0.0)\n",
        "    for user_id in range(M):\n",
        "        reg_loss += ((nbi[user_id]+mbi[user_id]) * (B_trusterMF[:, user_id].pow(2).sum()))\n",
        "        reg_loss += (mwk[user_id] * (W_trusterMF[:, user_id].pow(2).sum()))\n",
        "    for item_id in range(N):\n",
        "        reg_loss += (nvj[item_id] * (V_trusterMF[:, item_id].pow(2).sum()))\n",
        "    loss += (lamda * reg_loss)\n",
        "    loss.backward() # Loss corresponding to Eq. (4) in the paper\n",
        "    optimizer.step()\n",
        "    end = time.time()\n",
        "    print(\"Iteration: \", iteration, \", loss: \", loss, \", time(seconds): \", end-start)\n",
        "    torch.save(B_trusterMF, \"drive/My Drive/SCFT_Project/B_trusterMF_\"+str(iteration)+\".pth\")\n",
        "    torch.save(V_trusterMF, \"drive/My Drive/SCFT_Project/V_trusterMF_\"+str(iteration)+\".pth\")\n",
        "    torch.save(W_trusterMF, \"drive/My Drive/SCFT_Project/W_trusterMF_\"+str(iteration)+\".pth\")"
      ],
      "execution_count": null,
      "outputs": [
        {
          "output_type": "stream",
          "text": [
            "Iteration:  8 , loss:  tensor(150490.4844, grad_fn=<AddBackward0>) , time(seconds):  4272.635210514069\n",
            "Iteration:  9 , loss:  tensor(77514.4375, grad_fn=<AddBackward0>) , time(seconds):  4330.430537939072\n"
          ],
          "name": "stdout"
        }
      ]
    },
    {
      "cell_type": "code",
      "metadata": {
        "id": "zMqvJI-4S4Xg"
      },
      "source": [
        "epochs = 2"
      ],
      "execution_count": null,
      "outputs": []
    },
    {
      "cell_type": "code",
      "metadata": {
        "colab": {
          "base_uri": "https://localhost:8080/",
          "height": 52
        },
        "id": "-dENfL8q0l9_",
        "outputId": "4699d18f-a154-405c-d2a0-29b1a5e53ad3"
      },
      "source": [
        "for iteration in range(10, 10+epochs):\n",
        "    start = time.time()\n",
        "    loss = torch.tensor(0.0)\n",
        "    optimizer.zero_grad()\n",
        "    for idx in range(len(ratings_data_train)):\n",
        "        user_id = int(ratings_data_train.iloc[idx][\"user_id\"])\n",
        "        item_id = int(ratings_data_train.iloc[idx][\"item_id\"])\n",
        "        rating = ratings_data_train.iloc[idx][\"rating\"]\n",
        "        loss += (torch.sigmoid(torch.dot(B_trusterMF[:, user_id-1], V_trusterMF[:, item_id-1])) - rating).pow(2)\n",
        "    for idx in range(len(trust_data)):\n",
        "        user1_id = trust_data.iloc[idx][\"user1_id\"]\n",
        "        user2_id = trust_data.iloc[idx][\"user2_id\"]\n",
        "        trust_val = trust_data.iloc[idx][\"trust_val\"]\n",
        "        loss += (torch.sigmoid(torch.dot(B_trusterMF[:, user1_id-1], W_trusterMF[:, user2_id-1])) - trust_val).pow(2)\n",
        "    reg_loss = torch.tensor(0.0)\n",
        "    for user_id in range(M):\n",
        "        reg_loss += ((nbi[user_id]+mbi[user_id]) * (B_trusterMF[:, user_id].pow(2).sum()))\n",
        "        reg_loss += (mwk[user_id] * (W_trusterMF[:, user_id].pow(2).sum()))\n",
        "    for item_id in range(N):\n",
        "        reg_loss += (nvj[item_id] * (V_trusterMF[:, item_id].pow(2).sum()))\n",
        "    loss += (lamda * reg_loss)\n",
        "    loss.backward() # Loss corresponding to Eq. (4) in the paper\n",
        "    optimizer.step()\n",
        "    end = time.time()\n",
        "    print(\"Iteration: \", iteration, \", loss: \", loss, \", time(seconds): \", end-start)\n",
        "    torch.save(B_trusterMF, \"drive/My Drive/SCFT_Project/B_trusterMF_\"+str(iteration)+\".pth\")\n",
        "    torch.save(V_trusterMF, \"drive/My Drive/SCFT_Project/V_trusterMF_\"+str(iteration)+\".pth\")\n",
        "    torch.save(W_trusterMF, \"drive/My Drive/SCFT_Project/W_trusterMF_\"+str(iteration)+\".pth\")"
      ],
      "execution_count": null,
      "outputs": [
        {
          "output_type": "stream",
          "text": [
            "Iteration:  10 , loss:  tensor(56805.3047, grad_fn=<AddBackward0>) , time(seconds):  4252.879674196243\n",
            "Iteration:  11 , loss:  tensor(47447.3828, grad_fn=<AddBackward0>) , time(seconds):  4283.094748258591\n"
          ],
          "name": "stdout"
        }
      ]
    },
    {
      "cell_type": "code",
      "metadata": {
        "id": "ezc845IG1JrM"
      },
      "source": [
        "torch.save(optimizer.state_dict(), \"drive/My Drive/SCFT_Project/optimizer_trusterMF_11.pth\")"
      ],
      "execution_count": null,
      "outputs": []
    },
    {
      "cell_type": "code",
      "metadata": {
        "id": "04OQBM0u0qx6"
      },
      "source": [
        "epochs = 2"
      ],
      "execution_count": null,
      "outputs": []
    },
    {
      "cell_type": "code",
      "metadata": {
        "colab": {
          "base_uri": "https://localhost:8080/",
          "height": 52
        },
        "id": "HqP7BxUQVyPd",
        "outputId": "64cc3e6e-b0c1-42f1-df87-04b05584e6eb"
      },
      "source": [
        "for iteration in range(12, 12+epochs):\n",
        "    start = time.time()\n",
        "    loss = torch.tensor(0.0)\n",
        "    optimizer.zero_grad()\n",
        "    for idx in range(len(ratings_data_train)):\n",
        "        user_id = int(ratings_data_train.iloc[idx][\"user_id\"])\n",
        "        item_id = int(ratings_data_train.iloc[idx][\"item_id\"])\n",
        "        rating = ratings_data_train.iloc[idx][\"rating\"]\n",
        "        loss += (torch.sigmoid(torch.dot(B_trusterMF[:, user_id-1], V_trusterMF[:, item_id-1])) - rating).pow(2)\n",
        "    for idx in range(len(trust_data)):\n",
        "        user1_id = trust_data.iloc[idx][\"user1_id\"]\n",
        "        user2_id = trust_data.iloc[idx][\"user2_id\"]\n",
        "        trust_val = trust_data.iloc[idx][\"trust_val\"]\n",
        "        loss += (torch.sigmoid(torch.dot(B_trusterMF[:, user1_id-1], W_trusterMF[:, user2_id-1])) - trust_val).pow(2)\n",
        "    reg_loss = torch.tensor(0.0)\n",
        "    for user_id in range(M):\n",
        "        reg_loss += ((nbi[user_id]+mbi[user_id]) * (B_trusterMF[:, user_id].pow(2).sum()))\n",
        "        reg_loss += (mwk[user_id] * (W_trusterMF[:, user_id].pow(2).sum()))\n",
        "    for item_id in range(N):\n",
        "        reg_loss += (nvj[item_id] * (V_trusterMF[:, item_id].pow(2).sum()))\n",
        "    loss += (lamda * reg_loss)\n",
        "    loss.backward() # Loss corresponding to Eq. (4) in the paper\n",
        "    optimizer.step()\n",
        "    end = time.time()\n",
        "    print(\"Iteration: \", iteration, \", loss: \", loss, \", time(seconds): \", end-start)\n",
        "    torch.save(B_trusterMF, \"drive/My Drive/SCFT_Project/B_trusterMF_\"+str(iteration)+\".pth\")\n",
        "    torch.save(V_trusterMF, \"drive/My Drive/SCFT_Project/V_trusterMF_\"+str(iteration)+\".pth\")\n",
        "    torch.save(W_trusterMF, \"drive/My Drive/SCFT_Project/W_trusterMF_\"+str(iteration)+\".pth\")"
      ],
      "execution_count": null,
      "outputs": [
        {
          "output_type": "stream",
          "text": [
            "Iteration:  12 , loss:  tensor(78582.5234, grad_fn=<AddBackward0>) , time(seconds):  4240.109281539917\n",
            "Iteration:  13 , loss:  tensor(42432.4609, grad_fn=<AddBackward0>) , time(seconds):  4237.006747484207\n"
          ],
          "name": "stdout"
        }
      ]
    },
    {
      "cell_type": "code",
      "metadata": {
        "id": "31CzsFu3WgKQ"
      },
      "source": [
        "torch.save(optimizer.state_dict(), \"drive/My Drive/SCFT_Project/optimizer_trusterMF_13.pth\")"
      ],
      "execution_count": null,
      "outputs": []
    },
    {
      "cell_type": "code",
      "metadata": {
        "id": "zEpj10OM36q-"
      },
      "source": [
        "nbi = np.load('drive/My Drive/SCFT_Project/npy_files/nbi.npy')\n",
        "nvj = np.load('drive/My Drive/SCFT_Project/npy_files/nvj.npy')\n",
        "mbi = np.load('drive/My Drive/SCFT_Project/npy_files/mbi.npy')\n",
        "mwk = np.load('drive/My Drive/SCFT_Project/npy_files/mwk.npy')\n",
        "B_trusterMF = Variable(torch.load(\"drive/My Drive/SCFT_Project/B_trusterMF_\"+str(13)+\".pth\"), requires_grad=True)\n",
        "V_trusterMF = Variable(torch.load(\"drive/My Drive/SCFT_Project/V_trusterMF_\"+str(13)+\".pth\"), requires_grad=True)\n",
        "W_trusterMF = Variable(torch.load(\"drive/My Drive/SCFT_Project/W_trusterMF_\"+str(13)+\".pth\"), requires_grad=True)"
      ],
      "execution_count": null,
      "outputs": []
    },
    {
      "cell_type": "code",
      "metadata": {
        "colab": {
          "base_uri": "https://localhost:8080/",
          "height": 72
        },
        "id": "se5QALzlV7sc",
        "outputId": "102cebc7-9a93-4180-ca60-1932c6e95f62"
      },
      "source": [
        "epochs = 3\n",
        "alpha_lr = 0.20\n",
        "optimizer = optim.SGD([B_trusterMF, V_trusterMF, W_trusterMF], lr=alpha_lr)\n",
        "checkpt = torch.load(\"drive/My Drive/SCFT_Project/optimizer_trusterMF_13.pth\")\n",
        "optimizer.load_state_dict(checkpt)\n",
        "print(optimizer.state_dict())\n",
        "for pg in optimizer.param_groups:\n",
        "    pg['lr'] = alpha_lr\n",
        "print(optimizer.state_dict())"
      ],
      "execution_count": null,
      "outputs": [
        {
          "output_type": "stream",
          "text": [
            "{'state': {}, 'param_groups': [{'lr': 0.25, 'momentum': 0, 'dampening': 0, 'weight_decay': 0, 'nesterov': False, 'params': [139718035755296, 139718035711896, 139718035712112]}]}\n",
            "{'state': {}, 'param_groups': [{'lr': 0.2, 'momentum': 0, 'dampening': 0, 'weight_decay': 0, 'nesterov': False, 'params': [139718035755296, 139718035711896, 139718035712112]}]}\n"
          ],
          "name": "stdout"
        }
      ]
    },
    {
      "cell_type": "code",
      "metadata": {
        "colab": {
          "base_uri": "https://localhost:8080/",
          "height": 69
        },
        "id": "Tfk2PsbR29By",
        "outputId": "ea7d06f8-d29d-439a-9d4b-a33379afd772"
      },
      "source": [
        "for iteration in range(14, 17):\n",
        "    start = time.time()\n",
        "    loss = torch.tensor(0.0)\n",
        "    optimizer.zero_grad()\n",
        "    for idx in range(len(ratings_data_train)):\n",
        "        user_id = int(ratings_data_train.iloc[idx][\"user_id\"])\n",
        "        item_id = int(ratings_data_train.iloc[idx][\"item_id\"])\n",
        "        rating = ratings_data_train.iloc[idx][\"rating\"]\n",
        "        loss += (torch.sigmoid(torch.dot(B_trusterMF[:, user_id-1], V_trusterMF[:, item_id-1])) - rating).pow(2)\n",
        "    for idx in range(len(trust_data)):\n",
        "        user1_id = trust_data.iloc[idx][\"user1_id\"]\n",
        "        user2_id = trust_data.iloc[idx][\"user2_id\"]\n",
        "        trust_val = trust_data.iloc[idx][\"trust_val\"]\n",
        "        loss += (torch.sigmoid(torch.dot(B_trusterMF[:, user1_id-1], W_trusterMF[:, user2_id-1])) - trust_val).pow(2)\n",
        "    reg_loss = torch.tensor(0.0)\n",
        "    for user_id in range(M):\n",
        "        reg_loss += ((nbi[user_id]+mbi[user_id]) * (B_trusterMF[:, user_id].pow(2).sum()))\n",
        "        reg_loss += (mwk[user_id] * (W_trusterMF[:, user_id].pow(2).sum()))\n",
        "    for item_id in range(N):\n",
        "        reg_loss += (nvj[item_id] * (V_trusterMF[:, item_id].pow(2).sum()))\n",
        "    loss += (lamda * reg_loss)\n",
        "    loss.backward() # Loss corresponding to Eq. (4) in the paper\n",
        "    optimizer.step()\n",
        "    end = time.time()\n",
        "    print(\"Iteration: \", iteration, \", loss: \", loss, \", time(seconds): \", end-start)\n",
        "    torch.save(B_trusterMF, \"drive/My Drive/SCFT_Project/B_trusterMF_\"+str(iteration)+\".pth\")\n",
        "    torch.save(V_trusterMF, \"drive/My Drive/SCFT_Project/V_trusterMF_\"+str(iteration)+\".pth\")\n",
        "    torch.save(W_trusterMF, \"drive/My Drive/SCFT_Project/W_trusterMF_\"+str(iteration)+\".pth\")"
      ],
      "execution_count": null,
      "outputs": [
        {
          "output_type": "stream",
          "text": [
            "Iteration:  14 , loss:  tensor(52122.6172, grad_fn=<AddBackward0>) , time(seconds):  4210.962449550629\n",
            "Iteration:  15 , loss:  tensor(47897.1992, grad_fn=<AddBackward0>) , time(seconds):  4222.90231347084\n",
            "Iteration:  16 , loss:  tensor(254963.1562, grad_fn=<AddBackward0>) , time(seconds):  3934.3916993141174\n"
          ],
          "name": "stdout"
        }
      ]
    },
    {
      "cell_type": "code",
      "metadata": {
        "id": "K4-3N99M23s_"
      },
      "source": [
        "torch.save(optimizer.state_dict(), \"drive/My Drive/SCFT_Project/optimizer_trusterMF_16.pth\")"
      ],
      "execution_count": null,
      "outputs": []
    },
    {
      "cell_type": "markdown",
      "metadata": {
        "id": "SQLLiRFf3ksm"
      },
      "source": [
        "### Train Trustee Model:"
      ]
    },
    {
      "cell_type": "code",
      "metadata": {
        "id": "xcwYsycK3mdZ"
      },
      "source": [
        "torch.manual_seed(42) # Set any random seed for reproducibility\n",
        "# Browse Reviews Behaviour Matrix (Influence from other users)\n",
        "B_trusteeMF = Variable(torch.empty((D, M)).normal_(mean=0.0, std=0.1), requires_grad=True)\n",
        "# Item feature matrix\n",
        "V_trusteeMF = Variable(torch.empty((D, N)).normal_(mean=0.0, std=0.1), requires_grad=True)\n",
        "# Write Reviews Behaviour Matrix (Influence other users) - Approximates User feature matrix U in Trustee Model\n",
        "W_trusteeMF = Variable(torch.empty((D, M)).normal_(mean=0.0, std=0.1), requires_grad=True)"
      ],
      "execution_count": null,
      "outputs": []
    },
    {
      "cell_type": "code",
      "metadata": {
        "id": "RgZ48XhvrUQP"
      },
      "source": [
        "# nwi - no. of ratings given by user i\n",
        "# nvj - no. of ratings given to item j\n",
        "def calculate_nwi_and_nvj():\n",
        "    global ratings_data_train, M, N\n",
        "    nwi = np.zeros(M)\n",
        "    nvj = np.zeros(N)\n",
        "    for idx in range(len(ratings_data_train)):\n",
        "        nwi[int(ratings_data_train.iloc[idx][\"user_id\"])-1] += 1\n",
        "        nvj[int(ratings_data_train.iloc[idx][\"item_id\"])-1] += 1\n",
        "    return nwi, nvj"
      ],
      "execution_count": null,
      "outputs": []
    },
    {
      "cell_type": "code",
      "metadata": {
        "id": "QMsiE4xNrUDk"
      },
      "source": [
        "# mbk - no. of users who are trusted by user k\n",
        "# mwi - no. of users who trust user i\n",
        "def calculate_mwi_and_mbk():\n",
        "    global trust_data, M\n",
        "    mwi = np.zeros(M)\n",
        "    mbk = np.zeros(M)\n",
        "    for idx in range(len(trust_data)):\n",
        "        mwi[trust_data.iloc[idx][\"user2_id\"]-1] += 1\n",
        "        mbk[trust_data.iloc[idx][\"user1_id\"]-1] += 1\n",
        "    return mwi, mbk"
      ],
      "execution_count": null,
      "outputs": []
    },
    {
      "cell_type": "code",
      "metadata": {
        "colab": {
          "base_uri": "https://localhost:8080/"
        },
        "id": "HBd56rxyrT3j",
        "outputId": "0a91e6b1-504d-40a6-f96f-522a29651cad"
      },
      "source": [
        "start = time.time()\n",
        "nwi, nvj = calculate_nwi_and_nvj()\n",
        "end = time.time()\n",
        "print(end-start, \" seconds\")"
      ],
      "execution_count": null,
      "outputs": [
        {
          "output_type": "stream",
          "text": [
            "145.4626820087433  seconds\n"
          ],
          "name": "stdout"
        }
      ]
    },
    {
      "cell_type": "code",
      "metadata": {
        "id": "7YjOLUyprT1l"
      },
      "source": [
        "np.save('drive/My Drive/SCFT_Project/npy_files/nwi.npy', nwi)\n",
        "# nwi = np.load('drive/My Drive/SCFT_Project/npy_files/nwi.npy')\n",
        "np.save('drive/My Drive/SCFT_Project/npy_files/nvj.npy', nvj)\n",
        "# nvj = np.load('drive/My Drive/SCFT_Project/npy_files/nvj.npy')"
      ],
      "execution_count": null,
      "outputs": []
    },
    {
      "cell_type": "code",
      "metadata": {
        "colab": {
          "base_uri": "https://localhost:8080/"
        },
        "id": "lBnieLuHrTwz",
        "outputId": "59eb37e6-c916-46bd-e3f8-8f97c8dfd96b"
      },
      "source": [
        "start = time.time()\n",
        "mwi, mbk = calculate_mwi_and_mbk()\n",
        "end = time.time()\n",
        "print(end-start, \" seconds\")"
      ],
      "execution_count": null,
      "outputs": [
        {
          "output_type": "stream",
          "text": [
            "97.13806438446045  seconds\n"
          ],
          "name": "stdout"
        }
      ]
    },
    {
      "cell_type": "code",
      "metadata": {
        "id": "UUxnTHLGQHgL"
      },
      "source": [
        "np.save('drive/My Drive/SCFT_Project/npy_files/mwi.npy', mwi)\n",
        "# mwi = np.load('drive/My Drive/SCFT_Project/npy_files/mwi.npy')\n",
        "np.save('drive/My Drive/SCFT_Project/npy_files/mbk.npy', mbk)\n",
        "# mbk = np.load('drive/My Drive/SCFT_Project/npy_files/mbk.npy')"
      ],
      "execution_count": null,
      "outputs": []
    },
    {
      "cell_type": "code",
      "metadata": {
        "id": "xdqhd-EyQHXT"
      },
      "source": [
        "epochs = 6 # No. of epochs\n",
        "alpha_lr = 0.4 # Learning Rate\n",
        "optimizer = optim.SGD([B_trusteeMF, V_trusteeMF, W_trusteeMF], lr=alpha_lr)"
      ],
      "execution_count": null,
      "outputs": []
    },
    {
      "cell_type": "code",
      "metadata": {
        "id": "ot3SwzbGQw3S"
      },
      "source": [
        "for iteration in range(0, 0+epochs):\n",
        "    start = time.time()\n",
        "    loss = torch.tensor(0.0)\n",
        "    optimizer.zero_grad()\n",
        "    for idx in range(len(ratings_data_train)):\n",
        "        user_id = int(ratings_data_train.iloc[idx][\"user_id\"])\n",
        "        item_id = int(ratings_data_train.iloc[idx][\"item_id\"])\n",
        "        rating = ratings_data_train.iloc[idx][\"rating\"]\n",
        "        loss += (torch.sigmoid(torch.dot(W_trusteeMF[:, user_id-1], V_trusteeMF[:, item_id-1])) - rating).pow(2)\n",
        "    for idx in range(len(trust_data)):\n",
        "        user1_id = trust_data.iloc[idx][\"user1_id\"]\n",
        "        user2_id = trust_data.iloc[idx][\"user2_id\"]\n",
        "        trust_val = trust_data.iloc[idx][\"trust_val\"]\n",
        "        loss += (torch.sigmoid(torch.dot(B_trusteeMF[:, user1_id-1], W_trusteeMF[:, user2_id-1])) - trust_val).pow(2)\n",
        "    reg_loss = torch.tensor(0.0)\n",
        "    for user_id in range(M):\n",
        "        reg_loss += ((nwi[user_id]+mwi[user_id]) * (W_trusteeMF[:, user_id].pow(2).sum()))\n",
        "        reg_loss += (mbk[user_id] * (B_trusteeMF[:, user_id].pow(2).sum()))\n",
        "    for item_id in range(N):\n",
        "        reg_loss += (nvj[item_id] * (V_trusteeMF[:, item_id].pow(2).sum()))\n",
        "    loss += (lamda * reg_loss)\n",
        "    loss.backward() # Loss corresponding to Eq. (5) in the paper\n",
        "    optimizer.step()\n",
        "    end = time.time()\n",
        "    print(\"Iteration: \", iteration, \", loss: \", loss, \", time(seconds): \", end-start)\n",
        "    torch.save(B_trusteeMF, \"drive/My Drive/SCFT_Project/B_trusteeMF_\"+str(iteration)+\".pth\")\n",
        "    torch.save(V_trusteeMF, \"drive/My Drive/SCFT_Project/V_trusteeMF_\"+str(iteration)+\".pth\")\n",
        "    torch.save(W_trusteeMF, \"drive/My Drive/SCFT_Project/W_trusteeMF_\"+str(iteration)+\".pth\")"
      ],
      "execution_count": null,
      "outputs": []
    },
    {
      "cell_type": "code",
      "metadata": {
        "id": "Ft-7Hu6Q5_x_"
      },
      "source": [
        "torch.save(optimizer.state_dict(), \"drive/My Drive/SCFT_Project/optimizer_trusteeMF_5.pth\")"
      ],
      "execution_count": null,
      "outputs": []
    },
    {
      "cell_type": "code",
      "metadata": {
        "id": "_XX_Gk_bgdPF"
      },
      "source": [
        "epochs = 4\n",
        "alpha_lr = 0.25\n",
        "for pg in optimizer.param_groups:\n",
        "    pg['lr'] = alpha_lr"
      ],
      "execution_count": null,
      "outputs": []
    },
    {
      "cell_type": "code",
      "metadata": {
        "colab": {
          "base_uri": "https://localhost:8080/",
          "height": 69
        },
        "id": "Rwq4YDT_gdKF",
        "outputId": "cd66af65-b954-44d2-8292-91bfab6385f4"
      },
      "source": [
        "for iteration in range(6, 6+epochs):\n",
        "    start = time.time()\n",
        "    loss = torch.tensor(0.0)\n",
        "    optimizer.zero_grad()\n",
        "    for idx in range(len(ratings_data_train)):\n",
        "        user_id = int(ratings_data_train.iloc[idx][\"user_id\"])\n",
        "        item_id = int(ratings_data_train.iloc[idx][\"item_id\"])\n",
        "        rating = ratings_data_train.iloc[idx][\"rating\"]\n",
        "        loss += (torch.sigmoid(torch.dot(W_trusteeMF[:, user_id-1], V_trusteeMF[:, item_id-1])) - rating).pow(2)\n",
        "    for idx in range(len(trust_data)):\n",
        "        user1_id = trust_data.iloc[idx][\"user1_id\"]\n",
        "        user2_id = trust_data.iloc[idx][\"user2_id\"]\n",
        "        trust_val = trust_data.iloc[idx][\"trust_val\"]\n",
        "        loss += (torch.sigmoid(torch.dot(B_trusteeMF[:, user1_id-1], W_trusteeMF[:, user2_id-1])) - trust_val).pow(2)\n",
        "    reg_loss = torch.tensor(0.0)\n",
        "    for user_id in range(M):\n",
        "        reg_loss += ((nwi[user_id]+mwi[user_id]) * (W_trusteeMF[:, user_id].pow(2).sum()))\n",
        "        reg_loss += (mbk[user_id] * (B_trusteeMF[:, user_id].pow(2).sum()))\n",
        "    for item_id in range(N):\n",
        "        reg_loss += (nvj[item_id] * (V_trusteeMF[:, item_id].pow(2).sum()))\n",
        "    loss += (lamda * reg_loss)\n",
        "    loss.backward() # Loss corresponding to Eq. (5) in the paper\n",
        "    optimizer.step()\n",
        "    end = time.time()\n",
        "    print(\"Iteration: \", iteration, \", loss: \", loss, \", time(seconds): \", end-start)\n",
        "    torch.save(B_trusteeMF, \"drive/My Drive/SCFT_Project/B_trusteeMF_\"+str(iteration)+\".pth\")\n",
        "    torch.save(V_trusteeMF, \"drive/My Drive/SCFT_Project/V_trusteeMF_\"+str(iteration)+\".pth\")\n",
        "    torch.save(W_trusteeMF, \"drive/My Drive/SCFT_Project/W_trusteeMF_\"+str(iteration)+\".pth\")"
      ],
      "execution_count": null,
      "outputs": [
        {
          "output_type": "stream",
          "text": [
            "Iteration:  6 , loss:  tensor(268725.0938, grad_fn=<AddBackward0>) , time(seconds):  4073.85556101799\n",
            "Iteration:  7 , loss:  tensor(164052.6562, grad_fn=<AddBackward0>) , time(seconds):  4068.013741016388\n",
            "Iteration:  8 , loss:  tensor(117212.2188, grad_fn=<AddBackward0>) , time(seconds):  4069.180951356888\n"
          ],
          "name": "stdout"
        }
      ]
    },
    {
      "cell_type": "code",
      "metadata": {
        "id": "Wlza9suRQwrK"
      },
      "source": [
        "B_trusteeMF = Variable(torch.load(\"drive/My Drive/SCFT_Project/B_trusteeMF_\"+str(8)+\".pth\"), requires_grad=True)\n",
        "V_trusteeMF = Variable(torch.load(\"drive/My Drive/SCFT_Project/V_trusteeMF_\"+str(8)+\".pth\"), requires_grad=True)\n",
        "W_trusteeMF = Variable(torch.load(\"drive/My Drive/SCFT_Project/W_trusteeMF_\"+str(8)+\".pth\"), requires_grad=True)\n",
        "nwi = np.load('drive/My Drive/SCFT_Project/npy_files/nwi.npy')\n",
        "nvj = np.load('drive/My Drive/SCFT_Project/npy_files/nvj.npy')\n",
        "mwi = np.load('drive/My Drive/SCFT_Project/npy_files/mwi.npy')\n",
        "mbk = np.load('drive/My Drive/SCFT_Project/npy_files/mbk.npy')"
      ],
      "execution_count": null,
      "outputs": []
    },
    {
      "cell_type": "code",
      "metadata": {
        "colab": {
          "base_uri": "https://localhost:8080/",
          "height": 72
        },
        "id": "BEm9VGRXmb-a",
        "outputId": "3d5e829f-7d17-4ef0-a647-f3894c0e36fc"
      },
      "source": [
        "epochs = 3\n",
        "alpha_lr = 0.20\n",
        "optimizer = optim.SGD([B_trusteeMF, V_trusteeMF, W_trusteeMF], lr=alpha_lr)\n",
        "checkpt = torch.load(\"drive/My Drive/SCFT_Project/optimizer_trusteeMF_5.pth\")\n",
        "optimizer.load_state_dict(checkpt)\n",
        "print(optimizer.state_dict())\n",
        "for pg in optimizer.param_groups:\n",
        "    pg['lr'] = alpha_lr\n",
        "print(optimizer.state_dict())"
      ],
      "execution_count": null,
      "outputs": [
        {
          "output_type": "stream",
          "text": [
            "{'state': {}, 'param_groups': [{'lr': 0.4, 'momentum': 0, 'dampening': 0, 'weight_decay': 0, 'nesterov': False, 'params': [140037430628216, 140037464580032, 140037430669816]}]}\n",
            "{'state': {}, 'param_groups': [{'lr': 0.2, 'momentum': 0, 'dampening': 0, 'weight_decay': 0, 'nesterov': False, 'params': [140037430628216, 140037464580032, 140037430669816]}]}\n"
          ],
          "name": "stdout"
        }
      ]
    },
    {
      "cell_type": "code",
      "metadata": {
        "colab": {
          "base_uri": "https://localhost:8080/",
          "height": 69
        },
        "id": "zJ6bj3YEmb4f",
        "outputId": "918cd3e9-0c35-403b-fe0f-afe0c97dc173"
      },
      "source": [
        "for iteration in range(9, 9+epochs):\n",
        "    start = time.time()\n",
        "    loss = torch.tensor(0.0)\n",
        "    optimizer.zero_grad()\n",
        "    for idx in range(len(ratings_data_train)):\n",
        "        user_id = int(ratings_data_train.iloc[idx][\"user_id\"])\n",
        "        item_id = int(ratings_data_train.iloc[idx][\"item_id\"])\n",
        "        rating = ratings_data_train.iloc[idx][\"rating\"]\n",
        "        loss += (torch.sigmoid(torch.dot(W_trusteeMF[:, user_id-1], V_trusteeMF[:, item_id-1])) - rating).pow(2)\n",
        "    for idx in range(len(trust_data)):\n",
        "        user1_id = trust_data.iloc[idx][\"user1_id\"]\n",
        "        user2_id = trust_data.iloc[idx][\"user2_id\"]\n",
        "        trust_val = trust_data.iloc[idx][\"trust_val\"]\n",
        "        loss += (torch.sigmoid(torch.dot(B_trusteeMF[:, user1_id-1], W_trusteeMF[:, user2_id-1])) - trust_val).pow(2)\n",
        "    reg_loss = torch.tensor(0.0)\n",
        "    for user_id in range(M):\n",
        "        reg_loss += ((nwi[user_id]+mwi[user_id]) * (W_trusteeMF[:, user_id].pow(2).sum()))\n",
        "        reg_loss += (mbk[user_id] * (B_trusteeMF[:, user_id].pow(2).sum()))\n",
        "    for item_id in range(N):\n",
        "        reg_loss += (nvj[item_id] * (V_trusteeMF[:, item_id].pow(2).sum()))\n",
        "    loss += (lamda * reg_loss)\n",
        "    loss.backward() # Loss corresponding to Eq. (5) in the paper\n",
        "    optimizer.step()\n",
        "    end = time.time()\n",
        "    print(\"Iteration: \", iteration, \", loss: \", loss, \", time(seconds): \", end-start)\n",
        "    torch.save(B_trusteeMF, \"drive/My Drive/SCFT_Project/B_trusteeMF_\"+str(iteration)+\".pth\")\n",
        "    torch.save(V_trusteeMF, \"drive/My Drive/SCFT_Project/V_trusteeMF_\"+str(iteration)+\".pth\")\n",
        "    torch.save(W_trusteeMF, \"drive/My Drive/SCFT_Project/W_trusteeMF_\"+str(iteration)+\".pth\")"
      ],
      "execution_count": null,
      "outputs": [
        {
          "output_type": "stream",
          "text": [
            "Iteration:  9 , loss:  tensor(81233.1875, grad_fn=<AddBackward0>) , time(seconds):  3971.718724489212\n",
            "Iteration:  10 , loss:  tensor(67049.2891, grad_fn=<AddBackward0>) , time(seconds):  4145.7169761657715\n",
            "Iteration:  11 , loss:  tensor(158793.0312, grad_fn=<AddBackward0>) , time(seconds):  4074.2037785053253\n"
          ],
          "name": "stdout"
        }
      ]
    },
    {
      "cell_type": "code",
      "metadata": {
        "id": "v-fk-QSRmbxy"
      },
      "source": [
        "B_trusteeMF = Variable(torch.load(\"drive/My Drive/SCFT_Project/B_trusteeMF_\"+str(10)+\".pth\"), requires_grad=True)\n",
        "V_trusteeMF = Variable(torch.load(\"drive/My Drive/SCFT_Project/V_trusteeMF_\"+str(10)+\".pth\"), requires_grad=True)\n",
        "W_trusteeMF = Variable(torch.load(\"drive/My Drive/SCFT_Project/W_trusteeMF_\"+str(10)+\".pth\"), requires_grad=True)\n",
        "nwi = np.load('drive/My Drive/SCFT_Project/npy_files/nwi.npy')\n",
        "nvj = np.load('drive/My Drive/SCFT_Project/npy_files/nvj.npy')\n",
        "mwi = np.load('drive/My Drive/SCFT_Project/npy_files/mwi.npy')\n",
        "mbk = np.load('drive/My Drive/SCFT_Project/npy_files/mbk.npy')"
      ],
      "execution_count": null,
      "outputs": []
    },
    {
      "cell_type": "code",
      "metadata": {
        "colab": {
          "base_uri": "https://localhost:8080/",
          "height": 72
        },
        "id": "KZvRDWTaGEvc",
        "outputId": "2973849f-474e-430f-987f-c459aa2ad44b"
      },
      "source": [
        "epochs = 4\n",
        "alpha_lr = 0.10\n",
        "optimizer = optim.SGD([B_trusteeMF, V_trusteeMF, W_trusteeMF], lr=alpha_lr)\n",
        "checkpt = torch.load(\"drive/My Drive/SCFT_Project/optimizer_trusteeMF_5.pth\")\n",
        "optimizer.load_state_dict(checkpt)\n",
        "print(optimizer.state_dict())\n",
        "for pg in optimizer.param_groups:\n",
        "    pg['lr'] = alpha_lr\n",
        "print(optimizer.state_dict())"
      ],
      "execution_count": null,
      "outputs": [
        {
          "output_type": "stream",
          "text": [
            "{'state': {}, 'param_groups': [{'lr': 0.4, 'momentum': 0, 'dampening': 0, 'weight_decay': 0, 'nesterov': False, 'params': [139984608295456, 139984608296752, 139984608295384]}]}\n",
            "{'state': {}, 'param_groups': [{'lr': 0.1, 'momentum': 0, 'dampening': 0, 'weight_decay': 0, 'nesterov': False, 'params': [139984608295456, 139984608296752, 139984608295384]}]}\n"
          ],
          "name": "stdout"
        }
      ]
    },
    {
      "cell_type": "code",
      "metadata": {
        "colab": {
          "base_uri": "https://localhost:8080/",
          "height": 86
        },
        "id": "BF1sGXbLGEsC",
        "outputId": "edcbbe73-341b-463f-a4bd-6040a0bc4620"
      },
      "source": [
        "for iteration in range(11, 11+epochs):\n",
        "    start = time.time()\n",
        "    loss = torch.tensor(0.0)\n",
        "    optimizer.zero_grad()\n",
        "    for idx in range(len(ratings_data_train)):\n",
        "        user_id = int(ratings_data_train.iloc[idx][\"user_id\"])\n",
        "        item_id = int(ratings_data_train.iloc[idx][\"item_id\"])\n",
        "        rating = ratings_data_train.iloc[idx][\"rating\"]\n",
        "        loss += (torch.sigmoid(torch.dot(W_trusteeMF[:, user_id-1], V_trusteeMF[:, item_id-1])) - rating).pow(2)\n",
        "    for idx in range(len(trust_data)):\n",
        "        user1_id = trust_data.iloc[idx][\"user1_id\"]\n",
        "        user2_id = trust_data.iloc[idx][\"user2_id\"]\n",
        "        trust_val = trust_data.iloc[idx][\"trust_val\"]\n",
        "        loss += (torch.sigmoid(torch.dot(B_trusteeMF[:, user1_id-1], W_trusteeMF[:, user2_id-1])) - trust_val).pow(2)\n",
        "    reg_loss = torch.tensor(0.0)\n",
        "    for user_id in range(M):\n",
        "        reg_loss += ((nwi[user_id]+mwi[user_id]) * (W_trusteeMF[:, user_id].pow(2).sum()))\n",
        "        reg_loss += (mbk[user_id] * (B_trusteeMF[:, user_id].pow(2).sum()))\n",
        "    for item_id in range(N):\n",
        "        reg_loss += (nvj[item_id] * (V_trusteeMF[:, item_id].pow(2).sum()))\n",
        "    loss += (lamda * reg_loss)\n",
        "    loss.backward() # Loss corresponding to Eq. (5) in the paper\n",
        "    optimizer.step()\n",
        "    end = time.time()\n",
        "    print(\"Iteration: \", iteration, \", loss: \", loss, \", time(seconds): \", end-start)\n",
        "    torch.save(B_trusteeMF, \"drive/My Drive/SCFT_Project/B_trusteeMF_\"+str(iteration)+\".pth\")\n",
        "    torch.save(V_trusteeMF, \"drive/My Drive/SCFT_Project/V_trusteeMF_\"+str(iteration)+\".pth\")\n",
        "    torch.save(W_trusteeMF, \"drive/My Drive/SCFT_Project/W_trusteeMF_\"+str(iteration)+\".pth\")"
      ],
      "execution_count": null,
      "outputs": [
        {
          "output_type": "stream",
          "text": [
            "Iteration:  11 , loss:  tensor(158793.0312, grad_fn=<AddBackward0>) , time(seconds):  3878.8655200004578\n",
            "Iteration:  12 , loss:  tensor(96774.0391, grad_fn=<AddBackward0>) , time(seconds):  3938.159417629242\n",
            "Iteration:  13 , loss:  tensor(68495.6094, grad_fn=<AddBackward0>) , time(seconds):  3906.793427467346\n",
            "Iteration:  14 , loss:  tensor(56088.2305, grad_fn=<AddBackward0>) , time(seconds):  3914.5910284519196\n"
          ],
          "name": "stdout"
        }
      ]
    },
    {
      "cell_type": "code",
      "metadata": {
        "id": "IJUE2wsNGEok"
      },
      "source": [
        "torch.save(optimizer.state_dict(), \"drive/My Drive/SCFT_Project/optimizer_trusteeMF_14.pth\")"
      ],
      "execution_count": null,
      "outputs": []
    },
    {
      "cell_type": "code",
      "metadata": {
        "id": "CP2b5QfJGEkz"
      },
      "source": [
        "epochs = 4"
      ],
      "execution_count": null,
      "outputs": []
    },
    {
      "cell_type": "code",
      "metadata": {
        "colab": {
          "base_uri": "https://localhost:8080/",
          "height": 86
        },
        "id": "cp04C71VI97k",
        "outputId": "eb059a02-5abd-4a21-f60d-f721ef80b294"
      },
      "source": [
        "for iteration in range(15, 15+epochs):\n",
        "    start = time.time()\n",
        "    loss = torch.tensor(0.0)\n",
        "    optimizer.zero_grad()\n",
        "    for idx in range(len(ratings_data_train)):\n",
        "        user_id = int(ratings_data_train.iloc[idx][\"user_id\"])\n",
        "        item_id = int(ratings_data_train.iloc[idx][\"item_id\"])\n",
        "        rating = ratings_data_train.iloc[idx][\"rating\"]\n",
        "        loss += (torch.sigmoid(torch.dot(W_trusteeMF[:, user_id-1], V_trusteeMF[:, item_id-1])) - rating).pow(2)\n",
        "    for idx in range(len(trust_data)):\n",
        "        user1_id = trust_data.iloc[idx][\"user1_id\"]\n",
        "        user2_id = trust_data.iloc[idx][\"user2_id\"]\n",
        "        trust_val = trust_data.iloc[idx][\"trust_val\"]\n",
        "        loss += (torch.sigmoid(torch.dot(B_trusteeMF[:, user1_id-1], W_trusteeMF[:, user2_id-1])) - trust_val).pow(2)\n",
        "    reg_loss = torch.tensor(0.0)\n",
        "    for user_id in range(M):\n",
        "        reg_loss += ((nwi[user_id]+mwi[user_id]) * (W_trusteeMF[:, user_id].pow(2).sum()))\n",
        "        reg_loss += (mbk[user_id] * (B_trusteeMF[:, user_id].pow(2).sum()))\n",
        "    for item_id in range(N):\n",
        "        reg_loss += (nvj[item_id] * (V_trusteeMF[:, item_id].pow(2).sum()))\n",
        "    loss += (lamda * reg_loss)\n",
        "    loss.backward() # Loss corresponding to Eq. (5) in the paper\n",
        "    optimizer.step()\n",
        "    end = time.time()\n",
        "    print(\"Iteration: \", iteration, \", loss: \", loss, \", time(seconds): \", end-start)\n",
        "    torch.save(B_trusteeMF, \"drive/My Drive/SCFT_Project/B_trusteeMF_\"+str(iteration)+\".pth\")\n",
        "    torch.save(V_trusteeMF, \"drive/My Drive/SCFT_Project/V_trusteeMF_\"+str(iteration)+\".pth\")\n",
        "    torch.save(W_trusteeMF, \"drive/My Drive/SCFT_Project/W_trusteeMF_\"+str(iteration)+\".pth\")"
      ],
      "execution_count": null,
      "outputs": [
        {
          "output_type": "stream",
          "text": [
            "Iteration:  15 , loss:  tensor(49085.2188, grad_fn=<AddBackward0>) , time(seconds):  3943.584791660309\n",
            "Iteration:  16 , loss:  tensor(45018.8789, grad_fn=<AddBackward0>) , time(seconds):  3860.2556190490723\n",
            "Iteration:  17 , loss:  tensor(42387.2109, grad_fn=<AddBackward0>) , time(seconds):  3899.5941994190216\n",
            "Iteration:  18 , loss:  tensor(41521.9141, grad_fn=<AddBackward0>) , time(seconds):  4006.6741077899933\n"
          ],
          "name": "stdout"
        }
      ]
    },
    {
      "cell_type": "code",
      "metadata": {
        "id": "OuQDUO72I932"
      },
      "source": [
        "torch.save(optimizer.state_dict(), \"drive/My Drive/SCFT_Project/optimizer_trusteeMF_18.pth\")"
      ],
      "execution_count": null,
      "outputs": []
    },
    {
      "cell_type": "code",
      "metadata": {
        "id": "RwIw6N3FI9zH"
      },
      "source": [
        "B_trusteeMF = Variable(torch.load(\"drive/My Drive/SCFT_Project/B_trusteeMF_\"+str(18)+\".pth\"), requires_grad=True)\n",
        "V_trusteeMF = Variable(torch.load(\"drive/My Drive/SCFT_Project/V_trusteeMF_\"+str(18)+\".pth\"), requires_grad=True)\n",
        "W_trusteeMF = Variable(torch.load(\"drive/My Drive/SCFT_Project/W_trusteeMF_\"+str(18)+\".pth\"), requires_grad=True)\n",
        "nwi = np.load('drive/My Drive/SCFT_Project/npy_files/nwi.npy')\n",
        "nvj = np.load('drive/My Drive/SCFT_Project/npy_files/nvj.npy')\n",
        "mwi = np.load('drive/My Drive/SCFT_Project/npy_files/mwi.npy')\n",
        "mbk = np.load('drive/My Drive/SCFT_Project/npy_files/mbk.npy')"
      ],
      "execution_count": null,
      "outputs": []
    },
    {
      "cell_type": "code",
      "metadata": {
        "colab": {
          "base_uri": "https://localhost:8080/",
          "height": 72
        },
        "id": "pHqyh3hGG6qv",
        "outputId": "9d12ae59-eb21-4aa4-de2b-6d522aa1468c"
      },
      "source": [
        "epochs = 4\n",
        "alpha_lr = 0.04\n",
        "optimizer = optim.SGD([B_trusteeMF, V_trusteeMF, W_trusteeMF], lr=alpha_lr)\n",
        "checkpt = torch.load(\"drive/My Drive/SCFT_Project/optimizer_trusteeMF_18.pth\")\n",
        "optimizer.load_state_dict(checkpt)\n",
        "print(optimizer.state_dict())\n",
        "for pg in optimizer.param_groups:\n",
        "    pg['lr'] = alpha_lr\n",
        "print(optimizer.state_dict())"
      ],
      "execution_count": null,
      "outputs": [
        {
          "output_type": "stream",
          "text": [
            "{'state': {}, 'param_groups': [{'lr': 0.1, 'momentum': 0, 'dampening': 0, 'weight_decay': 0, 'nesterov': False, 'params': [140029422903016, 140029422903160, 140029456924392]}]}\n",
            "{'state': {}, 'param_groups': [{'lr': 0.04, 'momentum': 0, 'dampening': 0, 'weight_decay': 0, 'nesterov': False, 'params': [140029422903016, 140029422903160, 140029456924392]}]}\n"
          ],
          "name": "stdout"
        }
      ]
    },
    {
      "cell_type": "code",
      "metadata": {
        "colab": {
          "base_uri": "https://localhost:8080/",
          "height": 52
        },
        "id": "4Ab8fiLEG6nX",
        "outputId": "0956d6bd-45e9-42c3-f4a7-8844084ce105"
      },
      "source": [
        "for iteration in range(19, 19+epochs):\n",
        "    start = time.time()\n",
        "    loss = torch.tensor(0.0)\n",
        "    optimizer.zero_grad()\n",
        "    for idx in range(len(ratings_data_train)):\n",
        "        user_id = int(ratings_data_train.iloc[idx][\"user_id\"])\n",
        "        item_id = int(ratings_data_train.iloc[idx][\"item_id\"])\n",
        "        rating = ratings_data_train.iloc[idx][\"rating\"]\n",
        "        loss += (torch.sigmoid(torch.dot(W_trusteeMF[:, user_id-1], V_trusteeMF[:, item_id-1])) - rating).pow(2)\n",
        "    for idx in range(len(trust_data)):\n",
        "        user1_id = trust_data.iloc[idx][\"user1_id\"]\n",
        "        user2_id = trust_data.iloc[idx][\"user2_id\"]\n",
        "        trust_val = trust_data.iloc[idx][\"trust_val\"]\n",
        "        loss += (torch.sigmoid(torch.dot(B_trusteeMF[:, user1_id-1], W_trusteeMF[:, user2_id-1])) - trust_val).pow(2)\n",
        "    reg_loss = torch.tensor(0.0)\n",
        "    for user_id in range(M):\n",
        "        reg_loss += ((nwi[user_id]+mwi[user_id]) * (W_trusteeMF[:, user_id].pow(2).sum()))\n",
        "        reg_loss += (mbk[user_id] * (B_trusteeMF[:, user_id].pow(2).sum()))\n",
        "    for item_id in range(N):\n",
        "        reg_loss += (nvj[item_id] * (V_trusteeMF[:, item_id].pow(2).sum()))\n",
        "    loss += (lamda * reg_loss)\n",
        "    loss.backward() # Loss corresponding to Eq. (5) in the paper\n",
        "    optimizer.step()\n",
        "    end = time.time()\n",
        "    print(\"Iteration: \", iteration, \", loss: \", loss, \", time(seconds): \", end-start)\n",
        "    torch.save(B_trusteeMF, \"drive/My Drive/SCFT_Project/B_trusteeMF_\"+str(iteration)+\".pth\")\n",
        "    torch.save(V_trusteeMF, \"drive/My Drive/SCFT_Project/V_trusteeMF_\"+str(iteration)+\".pth\")\n",
        "    torch.save(W_trusteeMF, \"drive/My Drive/SCFT_Project/W_trusteeMF_\"+str(iteration)+\".pth\")"
      ],
      "execution_count": null,
      "outputs": [
        {
          "output_type": "stream",
          "text": [
            "Iteration:  19 , loss:  tensor(39452.3984, grad_fn=<AddBackward0>) , time(seconds):  3930.1239247322083\n",
            "Iteration:  20 , loss:  tensor(38276.7695, grad_fn=<AddBackward0>) , time(seconds):  3961.7645902633667\n"
          ],
          "name": "stdout"
        }
      ]
    },
    {
      "cell_type": "code",
      "metadata": {
        "id": "feMvwiD-JTqw"
      },
      "source": [
        "B_trusteeMF = Variable(torch.load(\"drive/My Drive/SCFT_Project/B_trusteeMF_\"+str(20)+\".pth\"), requires_grad=True)\n",
        "V_trusteeMF = Variable(torch.load(\"drive/My Drive/SCFT_Project/V_trusteeMF_\"+str(20)+\".pth\"), requires_grad=True)\n",
        "W_trusteeMF = Variable(torch.load(\"drive/My Drive/SCFT_Project/W_trusteeMF_\"+str(20)+\".pth\"), requires_grad=True)\n",
        "nwi = np.load('drive/My Drive/SCFT_Project/npy_files/nwi.npy')\n",
        "nvj = np.load('drive/My Drive/SCFT_Project/npy_files/nvj.npy')\n",
        "mwi = np.load('drive/My Drive/SCFT_Project/npy_files/mwi.npy')\n",
        "mbk = np.load('drive/My Drive/SCFT_Project/npy_files/mbk.npy')"
      ],
      "execution_count": null,
      "outputs": []
    },
    {
      "cell_type": "code",
      "metadata": {
        "colab": {
          "base_uri": "https://localhost:8080/",
          "height": 72
        },
        "id": "S524D77jwUSc",
        "outputId": "f7cae860-5683-4465-927c-5cfeedf0bf4d"
      },
      "source": [
        "epochs = 4\n",
        "alpha_lr = 0.08\n",
        "optimizer = optim.SGD([B_trusteeMF, V_trusteeMF, W_trusteeMF], lr=alpha_lr)\n",
        "checkpt = torch.load(\"drive/My Drive/SCFT_Project/optimizer_trusteeMF_18.pth\")\n",
        "optimizer.load_state_dict(checkpt)\n",
        "print(optimizer.state_dict())\n",
        "for pg in optimizer.param_groups:\n",
        "    pg['lr'] = alpha_lr\n",
        "print(optimizer.state_dict())"
      ],
      "execution_count": null,
      "outputs": [
        {
          "output_type": "stream",
          "text": [
            "{'state': {}, 'param_groups': [{'lr': 0.1, 'momentum': 0, 'dampening': 0, 'weight_decay': 0, 'nesterov': False, 'params': [140597119802032, 140597119824808, 140597119825168]}]}\n",
            "{'state': {}, 'param_groups': [{'lr': 0.08, 'momentum': 0, 'dampening': 0, 'weight_decay': 0, 'nesterov': False, 'params': [140597119802032, 140597119824808, 140597119825168]}]}\n"
          ],
          "name": "stdout"
        }
      ]
    },
    {
      "cell_type": "code",
      "metadata": {
        "colab": {
          "base_uri": "https://localhost:8080/",
          "height": 86
        },
        "id": "WKsAPVjcwULe",
        "outputId": "29f6cba8-5d7d-4adb-a7df-f7b7d8712cbd"
      },
      "source": [
        "for iteration in range(21, 21+epochs):\n",
        "    start = time.time()\n",
        "    loss = torch.tensor(0.0)\n",
        "    optimizer.zero_grad()\n",
        "    for idx in range(len(ratings_data_train)):\n",
        "        user_id = int(ratings_data_train.iloc[idx][\"user_id\"])\n",
        "        item_id = int(ratings_data_train.iloc[idx][\"item_id\"])\n",
        "        rating = ratings_data_train.iloc[idx][\"rating\"]\n",
        "        loss += (torch.sigmoid(torch.dot(W_trusteeMF[:, user_id-1], V_trusteeMF[:, item_id-1])) - rating).pow(2)\n",
        "    for idx in range(len(trust_data)):\n",
        "        user1_id = trust_data.iloc[idx][\"user1_id\"]\n",
        "        user2_id = trust_data.iloc[idx][\"user2_id\"]\n",
        "        trust_val = trust_data.iloc[idx][\"trust_val\"]\n",
        "        loss += (torch.sigmoid(torch.dot(B_trusteeMF[:, user1_id-1], W_trusteeMF[:, user2_id-1])) - trust_val).pow(2)\n",
        "    reg_loss = torch.tensor(0.0)\n",
        "    for user_id in range(M):\n",
        "        reg_loss += ((nwi[user_id]+mwi[user_id]) * (W_trusteeMF[:, user_id].pow(2).sum()))\n",
        "        reg_loss += (mbk[user_id] * (B_trusteeMF[:, user_id].pow(2).sum()))\n",
        "    for item_id in range(N):\n",
        "        reg_loss += (nvj[item_id] * (V_trusteeMF[:, item_id].pow(2).sum()))\n",
        "    loss += (lamda * reg_loss)\n",
        "    loss.backward() # Loss corresponding to Eq. (5) in the paper\n",
        "    optimizer.step()\n",
        "    end = time.time()\n",
        "    print(\"Iteration: \", iteration, \", loss: \", loss, \", time(seconds): \", end-start)\n",
        "    torch.save(B_trusteeMF, \"drive/My Drive/SCFT_Project/B_trusteeMF_\"+str(iteration)+\".pth\")\n",
        "    torch.save(V_trusteeMF, \"drive/My Drive/SCFT_Project/V_trusteeMF_\"+str(iteration)+\".pth\")\n",
        "    torch.save(W_trusteeMF, \"drive/My Drive/SCFT_Project/W_trusteeMF_\"+str(iteration)+\".pth\")"
      ],
      "execution_count": null,
      "outputs": [
        {
          "output_type": "stream",
          "text": [
            "Iteration:  21 , loss:  tensor(37322.4219, grad_fn=<AddBackward0>) , time(seconds):  4213.098088264465\n",
            "Iteration:  22 , loss:  tensor(35904.5938, grad_fn=<AddBackward0>) , time(seconds):  4264.500135183334\n",
            "Iteration:  23 , loss:  tensor(35893.6641, grad_fn=<AddBackward0>) , time(seconds):  4189.6291427612305\n",
            "Iteration:  24 , loss:  tensor(34901.6406, grad_fn=<AddBackward0>) , time(seconds):  4171.842748403549\n"
          ],
          "name": "stdout"
        }
      ]
    },
    {
      "cell_type": "code",
      "metadata": {
        "id": "JDRmtY8OwUCu"
      },
      "source": [
        "torch.save(optimizer.state_dict(), \"drive/My Drive/SCFT_Project/optimizer_trusteeMF_24.pth\")"
      ],
      "execution_count": null,
      "outputs": []
    },
    {
      "cell_type": "code",
      "metadata": {
        "id": "sLwGLoSexPLp"
      },
      "source": [
        "B_trusteeMF = Variable(torch.load(\"drive/My Drive/SCFT_Project/B_trusteeMF_\"+str(24)+\".pth\"), requires_grad=True)\n",
        "V_trusteeMF = Variable(torch.load(\"drive/My Drive/SCFT_Project/V_trusteeMF_\"+str(24)+\".pth\"), requires_grad=True)\n",
        "W_trusteeMF = Variable(torch.load(\"drive/My Drive/SCFT_Project/W_trusteeMF_\"+str(24)+\".pth\"), requires_grad=True)\n",
        "nwi = np.load('drive/My Drive/SCFT_Project/npy_files/nwi.npy')\n",
        "nvj = np.load('drive/My Drive/SCFT_Project/npy_files/nvj.npy')\n",
        "mwi = np.load('drive/My Drive/SCFT_Project/npy_files/mwi.npy')\n",
        "mbk = np.load('drive/My Drive/SCFT_Project/npy_files/mbk.npy')"
      ],
      "execution_count": null,
      "outputs": []
    },
    {
      "cell_type": "code",
      "metadata": {
        "colab": {
          "base_uri": "https://localhost:8080/",
          "height": 72
        },
        "id": "xKpAVf9eQvR9",
        "outputId": "4a420251-e6e0-4c67-ffc9-02c1efcaf7c6"
      },
      "source": [
        "epochs = 4\n",
        "alpha_lr = 0.08\n",
        "optimizer = optim.SGD([B_trusteeMF, V_trusteeMF, W_trusteeMF], lr=alpha_lr)\n",
        "checkpt = torch.load(\"drive/My Drive/SCFT_Project/optimizer_trusteeMF_24.pth\")\n",
        "optimizer.load_state_dict(checkpt)\n",
        "print(optimizer.state_dict())\n",
        "for pg in optimizer.param_groups:\n",
        "    pg['lr'] = alpha_lr\n",
        "print(optimizer.state_dict())"
      ],
      "execution_count": null,
      "outputs": [
        {
          "output_type": "stream",
          "text": [
            "{'state': {}, 'param_groups': [{'lr': 0.08, 'momentum': 0, 'dampening': 0, 'weight_decay': 0, 'nesterov': False, 'params': [139986776931928, 139986743175712, 139988371950688]}]}\n",
            "{'state': {}, 'param_groups': [{'lr': 0.08, 'momentum': 0, 'dampening': 0, 'weight_decay': 0, 'nesterov': False, 'params': [139986776931928, 139986743175712, 139988371950688]}]}\n"
          ],
          "name": "stdout"
        }
      ]
    },
    {
      "cell_type": "code",
      "metadata": {
        "colab": {
          "base_uri": "https://localhost:8080/",
          "height": 86
        },
        "id": "xCDvur_yQvQG",
        "outputId": "648a0551-4435-43b4-f10f-b3b578be134e"
      },
      "source": [
        "for iteration in range(25, 25+epochs):\n",
        "    start = time.time()\n",
        "    loss = torch.tensor(0.0)\n",
        "    optimizer.zero_grad()\n",
        "    for idx in range(len(ratings_data_train)):\n",
        "        user_id = int(ratings_data_train.iloc[idx][\"user_id\"])\n",
        "        item_id = int(ratings_data_train.iloc[idx][\"item_id\"])\n",
        "        rating = ratings_data_train.iloc[idx][\"rating\"]\n",
        "        loss += (torch.sigmoid(torch.dot(W_trusteeMF[:, user_id-1], V_trusteeMF[:, item_id-1])) - rating).pow(2)\n",
        "    for idx in range(len(trust_data)):\n",
        "        user1_id = trust_data.iloc[idx][\"user1_id\"]\n",
        "        user2_id = trust_data.iloc[idx][\"user2_id\"]\n",
        "        trust_val = trust_data.iloc[idx][\"trust_val\"]\n",
        "        loss += (torch.sigmoid(torch.dot(B_trusteeMF[:, user1_id-1], W_trusteeMF[:, user2_id-1])) - trust_val).pow(2)\n",
        "    reg_loss = torch.tensor(0.0)\n",
        "    for user_id in range(M):\n",
        "        reg_loss += ((nwi[user_id]+mwi[user_id]) * (W_trusteeMF[:, user_id].pow(2).sum()))\n",
        "        reg_loss += (mbk[user_id] * (B_trusteeMF[:, user_id].pow(2).sum()))\n",
        "    for item_id in range(N):\n",
        "        reg_loss += (nvj[item_id] * (V_trusteeMF[:, item_id].pow(2).sum()))\n",
        "    loss += (lamda * reg_loss)\n",
        "    loss.backward() # Loss corresponding to Eq. (5) in the paper\n",
        "    optimizer.step()\n",
        "    end = time.time()\n",
        "    print(\"Iteration: \", iteration, \", loss: \", loss, \", time(seconds): \", end-start)\n",
        "    torch.save(B_trusteeMF, \"drive/My Drive/SCFT_Project/B_trusteeMF_\"+str(iteration)+\".pth\")\n",
        "    torch.save(V_trusteeMF, \"drive/My Drive/SCFT_Project/V_trusteeMF_\"+str(iteration)+\".pth\")\n",
        "    torch.save(W_trusteeMF, \"drive/My Drive/SCFT_Project/W_trusteeMF_\"+str(iteration)+\".pth\")"
      ],
      "execution_count": null,
      "outputs": [
        {
          "output_type": "stream",
          "text": [
            "Iteration:  25 , loss:  tensor(34010.9922, grad_fn=<AddBackward0>) , time(seconds):  4018.45547246933\n",
            "Iteration:  26 , loss:  tensor(33434.8750, grad_fn=<AddBackward0>) , time(seconds):  4229.299179315567\n",
            "Iteration:  27 , loss:  tensor(32953.0547, grad_fn=<AddBackward0>) , time(seconds):  4185.780665874481\n",
            "Iteration:  28 , loss:  tensor(32059.2109, grad_fn=<AddBackward0>) , time(seconds):  4058.7082839012146\n"
          ],
          "name": "stdout"
        }
      ]
    },
    {
      "cell_type": "code",
      "metadata": {
        "id": "1FQQ9JAfQvLU"
      },
      "source": [
        "torch.save(optimizer.state_dict(), \"drive/My Drive/SCFT_Project/optimizer_trusteeMF_28.pth\")"
      ],
      "execution_count": null,
      "outputs": []
    },
    {
      "cell_type": "code",
      "metadata": {
        "colab": {
          "base_uri": "https://localhost:8080/",
          "height": 72
        },
        "id": "wZNV9ebfxPEs",
        "outputId": "de143f49-13d8-460c-ca35-d2dbda7c667f"
      },
      "source": [
        "epochs = 4\n",
        "alpha_lr = 0.1\n",
        "print(optimizer.state_dict())\n",
        "for pg in optimizer.param_groups:\n",
        "    pg['lr'] = alpha_lr\n",
        "print(optimizer.state_dict())"
      ],
      "execution_count": null,
      "outputs": [
        {
          "output_type": "stream",
          "text": [
            "{'state': {}, 'param_groups': [{'lr': 0.08, 'momentum': 0, 'dampening': 0, 'weight_decay': 0, 'nesterov': False, 'params': [139986776931928, 139986743175712, 139988371950688]}]}\n",
            "{'state': {}, 'param_groups': [{'lr': 0.1, 'momentum': 0, 'dampening': 0, 'weight_decay': 0, 'nesterov': False, 'params': [139986776931928, 139986743175712, 139988371950688]}]}\n"
          ],
          "name": "stdout"
        }
      ]
    },
    {
      "cell_type": "code",
      "metadata": {
        "colab": {
          "base_uri": "https://localhost:8080/",
          "height": 86
        },
        "id": "3El9Q3soRjjs",
        "outputId": "cdfe08a3-036a-4c69-efe6-593dbe66b038"
      },
      "source": [
        "for iteration in range(29, 29+epochs):\n",
        "    start = time.time()\n",
        "    loss = torch.tensor(0.0)\n",
        "    optimizer.zero_grad()\n",
        "    for idx in range(len(ratings_data_train)):\n",
        "        user_id = int(ratings_data_train.iloc[idx][\"user_id\"])\n",
        "        item_id = int(ratings_data_train.iloc[idx][\"item_id\"])\n",
        "        rating = ratings_data_train.iloc[idx][\"rating\"]\n",
        "        loss += (torch.sigmoid(torch.dot(W_trusteeMF[:, user_id-1], V_trusteeMF[:, item_id-1])) - rating).pow(2)\n",
        "    for idx in range(len(trust_data)):\n",
        "        user1_id = trust_data.iloc[idx][\"user1_id\"]\n",
        "        user2_id = trust_data.iloc[idx][\"user2_id\"]\n",
        "        trust_val = trust_data.iloc[idx][\"trust_val\"]\n",
        "        loss += (torch.sigmoid(torch.dot(B_trusteeMF[:, user1_id-1], W_trusteeMF[:, user2_id-1])) - trust_val).pow(2)\n",
        "    reg_loss = torch.tensor(0.0)\n",
        "    for user_id in range(M):\n",
        "        reg_loss += ((nwi[user_id]+mwi[user_id]) * (W_trusteeMF[:, user_id].pow(2).sum()))\n",
        "        reg_loss += (mbk[user_id] * (B_trusteeMF[:, user_id].pow(2).sum()))\n",
        "    for item_id in range(N):\n",
        "        reg_loss += (nvj[item_id] * (V_trusteeMF[:, item_id].pow(2).sum()))\n",
        "    loss += (lamda * reg_loss)\n",
        "    loss.backward() # Loss corresponding to Eq. (5) in the paper\n",
        "    optimizer.step()\n",
        "    end = time.time()\n",
        "    print(\"Iteration: \", iteration, \", loss: \", loss, \", time(seconds): \", end-start)\n",
        "    torch.save(B_trusteeMF, \"drive/My Drive/SCFT_Project/B_trusteeMF_\"+str(iteration)+\".pth\")\n",
        "    torch.save(V_trusteeMF, \"drive/My Drive/SCFT_Project/V_trusteeMF_\"+str(iteration)+\".pth\")\n",
        "    torch.save(W_trusteeMF, \"drive/My Drive/SCFT_Project/W_trusteeMF_\"+str(iteration)+\".pth\")"
      ],
      "execution_count": null,
      "outputs": [
        {
          "output_type": "stream",
          "text": [
            "Iteration:  29 , loss:  tensor(31730.7695, grad_fn=<AddBackward0>) , time(seconds):  3991.024946451187\n",
            "Iteration:  30 , loss:  tensor(31726.9453, grad_fn=<AddBackward0>) , time(seconds):  4250.053227901459\n",
            "Iteration:  31 , loss:  tensor(31635.4590, grad_fn=<AddBackward0>) , time(seconds):  4189.5547025203705\n",
            "Iteration:  32 , loss:  tensor(31092.6797, grad_fn=<AddBackward0>) , time(seconds):  4157.575653791428\n"
          ],
          "name": "stdout"
        }
      ]
    },
    {
      "cell_type": "code",
      "metadata": {
        "id": "RG75BAgQRja9"
      },
      "source": [
        "torch.save(optimizer.state_dict(), \"drive/My Drive/SCFT_Project/optimizer_trusteeMF_32.pth\")"
      ],
      "execution_count": null,
      "outputs": []
    },
    {
      "cell_type": "code",
      "metadata": {
        "id": "kWfQ9GZcdy1j"
      },
      "source": [
        "B_trusteeMF = Variable(torch.load(\"drive/My Drive/SCFT_Project/B_trusteeMF_\"+str(32)+\".pth\"), requires_grad=True)\n",
        "V_trusteeMF = Variable(torch.load(\"drive/My Drive/SCFT_Project/V_trusteeMF_\"+str(32)+\".pth\"), requires_grad=True)\n",
        "W_trusteeMF = Variable(torch.load(\"drive/My Drive/SCFT_Project/W_trusteeMF_\"+str(32)+\".pth\"), requires_grad=True)\n",
        "nwi = np.load('drive/My Drive/SCFT_Project/npy_files/nwi.npy')\n",
        "nvj = np.load('drive/My Drive/SCFT_Project/npy_files/nvj.npy')\n",
        "mwi = np.load('drive/My Drive/SCFT_Project/npy_files/mwi.npy')\n",
        "mbk = np.load('drive/My Drive/SCFT_Project/npy_files/mbk.npy')"
      ],
      "execution_count": null,
      "outputs": []
    },
    {
      "cell_type": "code",
      "metadata": {
        "colab": {
          "base_uri": "https://localhost:8080/",
          "height": 72
        },
        "id": "0Vug_kMQaI80",
        "outputId": "04954fc5-55ed-4212-d41d-f1c3af6b6d33"
      },
      "source": [
        "epochs = 2\n",
        "alpha_lr = 0.2\n",
        "optimizer = optim.SGD([B_trusteeMF, V_trusteeMF, W_trusteeMF], lr=alpha_lr)\n",
        "checkpt = torch.load(\"drive/My Drive/SCFT_Project/optimizer_trusteeMF_32.pth\")\n",
        "optimizer.load_state_dict(checkpt)\n",
        "print(optimizer.state_dict())\n",
        "for pg in optimizer.param_groups:\n",
        "    pg['lr'] = alpha_lr\n",
        "print(optimizer.state_dict())"
      ],
      "execution_count": null,
      "outputs": [
        {
          "output_type": "stream",
          "text": [
            "{'state': {}, 'param_groups': [{'lr': 0.1, 'momentum': 0, 'dampening': 0, 'weight_decay': 0, 'nesterov': False, 'params': [140608972485472, 140610584456288, 140608972486048]}]}\n",
            "{'state': {}, 'param_groups': [{'lr': 0.2, 'momentum': 0, 'dampening': 0, 'weight_decay': 0, 'nesterov': False, 'params': [140608972485472, 140610584456288, 140608972486048]}]}\n"
          ],
          "name": "stdout"
        }
      ]
    },
    {
      "cell_type": "code",
      "metadata": {
        "colab": {
          "base_uri": "https://localhost:8080/"
        },
        "id": "aOG-BbqNYKCi",
        "outputId": "9ef4adc0-4525-49eb-925d-36a18c40ecc8"
      },
      "source": [
        "for iteration in range(33, 34):\n",
        "    start = time.time()\n",
        "    loss = torch.tensor(0.0)\n",
        "    optimizer.zero_grad()\n",
        "    for idx in range(len(ratings_data_train)):\n",
        "        user_id = int(ratings_data_train.iloc[idx][\"user_id\"])\n",
        "        item_id = int(ratings_data_train.iloc[idx][\"item_id\"])\n",
        "        rating = ratings_data_train.iloc[idx][\"rating\"]\n",
        "        loss += (torch.sigmoid(torch.dot(W_trusteeMF[:, user_id-1], V_trusteeMF[:, item_id-1])) - rating).pow(2)\n",
        "    for idx in range(len(trust_data)):\n",
        "        user1_id = trust_data.iloc[idx][\"user1_id\"]\n",
        "        user2_id = trust_data.iloc[idx][\"user2_id\"]\n",
        "        trust_val = trust_data.iloc[idx][\"trust_val\"]\n",
        "        loss += (torch.sigmoid(torch.dot(B_trusteeMF[:, user1_id-1], W_trusteeMF[:, user2_id-1])) - trust_val).pow(2)\n",
        "    reg_loss = torch.tensor(0.0)\n",
        "    for user_id in range(M):\n",
        "        reg_loss += ((nwi[user_id]+mwi[user_id]) * (W_trusteeMF[:, user_id].pow(2).sum()))\n",
        "        reg_loss += (mbk[user_id] * (B_trusteeMF[:, user_id].pow(2).sum()))\n",
        "    for item_id in range(N):\n",
        "        reg_loss += (nvj[item_id] * (V_trusteeMF[:, item_id].pow(2).sum()))\n",
        "    loss += (lamda * reg_loss)\n",
        "    loss.backward() # Loss corresponding to Eq. (5) in the paper\n",
        "    optimizer.step()\n",
        "    end = time.time()\n",
        "    print(\"Iteration: \", iteration, \", loss: \", loss, \", time(seconds): \", end-start)\n",
        "    torch.save(B_trusteeMF, \"drive/My Drive/SCFT_Project/B_trusteeMF_\"+str(iteration)+\".pth\")\n",
        "    torch.save(V_trusteeMF, \"drive/My Drive/SCFT_Project/V_trusteeMF_\"+str(iteration)+\".pth\")\n",
        "    torch.save(W_trusteeMF, \"drive/My Drive/SCFT_Project/W_trusteeMF_\"+str(iteration)+\".pth\")"
      ],
      "execution_count": null,
      "outputs": [
        {
          "output_type": "stream",
          "text": [
            "Iteration:  33 , loss:  tensor(200326.6094, grad_fn=<AddBackward0>) , time(seconds):  4621.4159190654755\n"
          ],
          "name": "stdout"
        }
      ]
    },
    {
      "cell_type": "code",
      "metadata": {
        "id": "CuYXlhROYJ-w"
      },
      "source": [
        "torch.save(optimizer.state_dict(), \"drive/My Drive/SCFT_Project/optimizer_trusteeMF_34.pth\")"
      ],
      "execution_count": null,
      "outputs": []
    },
    {
      "cell_type": "markdown",
      "metadata": {
        "id": "MNFLDNtCVMaq"
      },
      "source": [
        "### Predict Rating:"
      ]
    },
    {
      "cell_type": "code",
      "metadata": {
        "id": "JoIPVL7fGAye"
      },
      "source": [
        "def get_model_parameters(iteration_r, iteration_e):\n",
        "    B_trusterMF = Variable(torch.load(\"drive/My Drive/SCFT_Project/B_trusterMF_\"+str(iteration_r)+\".pth\"), requires_grad=False)\n",
        "    V_trusterMF = Variable(torch.load(\"drive/My Drive/SCFT_Project/V_trusterMF_\"+str(iteration_r)+\".pth\"), requires_grad=False)\n",
        "    W_trusteeMF = Variable(torch.load(\"drive/My Drive/SCFT_Project/W_trusteeMF_\"+str(iteration_e)+\".pth\"), requires_grad=False)\n",
        "    V_trusteeMF = Variable(torch.load(\"drive/My Drive/SCFT_Project/V_trusteeMF_\"+str(iteration_e)+\".pth\"), requires_grad=False)\n",
        "    model_dict = {'B_trusterMF': B_trusterMF, 'V_trusterMF': V_trusterMF, 'W_trusteeMF': W_trusteeMF, 'V_trusteeMF': V_trusteeMF}\n",
        "    return model_dict"
      ],
      "execution_count": null,
      "outputs": []
    },
    {
      "cell_type": "code",
      "metadata": {
        "id": "l8M6sygAVPIK"
      },
      "source": [
        "def predict_rating(model_dict, user_id, item_id):\n",
        "    global R_max \n",
        "    B_trusterMF = model_dict['B_trusterMF']\n",
        "    V_trusterMF = model_dict['V_trusterMF']\n",
        "    W_trusteeMF = model_dict['W_trusteeMF']\n",
        "    V_trusteeMF = model_dict['V_trusteeMF']\n",
        "    prediction = R_max * (torch.sigmoid((torch.dot(B_trusterMF[:, user_id-1], V_trusterMF[:, item_id-1]) + torch.dot(W_trusteeMF[:, user_id-1], V_trusteeMF[:, item_id-1])) / 2))\n",
        "    return prediction\n",
        "    # return prediction.data"
      ],
      "execution_count": null,
      "outputs": []
    },
    {
      "cell_type": "markdown",
      "metadata": {
        "id": "MB3nFwA6YTQc"
      },
      "source": [
        "### Validation on All Users (Paper Section 4.3.1):"
      ]
    },
    {
      "cell_type": "code",
      "metadata": {
        "id": "-A6zLm6YYSro"
      },
      "source": [
        "# Mean Absolute Error\n",
        "def compute_MAE(model_dict, mode=\"train\"):\n",
        "    global ratings_data_train, ratings_data_test\n",
        "    if mode == \"train\":\n",
        "        data = ratings_data_train\n",
        "    else:\n",
        "        data = ratings_data_test\n",
        "    AE = torch.tensor(0.0)\n",
        "    for idx in range(len(data)):\n",
        "        user_id = int(data.iloc[idx][\"user_id\"])\n",
        "        item_id = int(data.iloc[idx][\"item_id\"])\n",
        "        rating = (data.iloc[idx][\"rating\"]) * R_max\n",
        "        AE += torch.abs(predict_rating(model_dict, user_id, item_id) - rating)\n",
        "    MAE = AE / len(data)\n",
        "    return MAE"
      ],
      "execution_count": null,
      "outputs": []
    },
    {
      "cell_type": "code",
      "metadata": {
        "id": "SbTV_RKFYXEm"
      },
      "source": [
        "# Root Mean Square Error\n",
        "def compute_RMSE(model_dict, mode=\"train\"):\n",
        "    global ratings_data_train, ratings_data_test\n",
        "    if mode == \"train\":\n",
        "        data = ratings_data_train\n",
        "    else:\n",
        "        data = ratings_data_test\n",
        "    SE = torch.tensor(0.0)\n",
        "    for idx in range(len(data)):\n",
        "        user_id = int(data.iloc[idx][\"user_id\"])\n",
        "        item_id = int(data.iloc[idx][\"item_id\"])\n",
        "        rating = (data.iloc[idx][\"rating\"]) * R_max\n",
        "        SE += ((predict_rating(model_dict, user_id, item_id) - rating).pow(2))\n",
        "    MSE = SE / len(data)\n",
        "    RMSE = torch.sqrt(MSE)\n",
        "    return RMSE"
      ],
      "execution_count": null,
      "outputs": []
    },
    {
      "cell_type": "code",
      "metadata": {
        "id": "sNKblLE2YXBO"
      },
      "source": [
        "model_dict = get_model_parameters(15, 33)"
      ],
      "execution_count": null,
      "outputs": []
    },
    {
      "cell_type": "code",
      "metadata": {
        "colab": {
          "base_uri": "https://localhost:8080/"
        },
        "id": "jj3J8iV04azo",
        "outputId": "50ccb077-31df-4679-dab7-85562651b343"
      },
      "source": [
        "print(compute_MAE(model_dict, mode=\"train\"))"
      ],
      "execution_count": null,
      "outputs": [
        {
          "output_type": "stream",
          "text": [
            "tensor(1.7545)\n"
          ],
          "name": "stdout"
        }
      ]
    },
    {
      "cell_type": "code",
      "metadata": {
        "colab": {
          "base_uri": "https://localhost:8080/"
        },
        "id": "Vpq4N9rw6OhK",
        "outputId": "38f4c390-ecbe-4924-cfd3-61d2779c30b3"
      },
      "source": [
        "print(compute_MAE(model_dict, mode=\"test\"))"
      ],
      "execution_count": null,
      "outputs": [
        {
          "output_type": "stream",
          "text": [
            "tensor(1.7665)\n"
          ],
          "name": "stdout"
        }
      ]
    },
    {
      "cell_type": "code",
      "metadata": {
        "colab": {
          "base_uri": "https://localhost:8080/"
        },
        "id": "SLBU0e9f6m3U",
        "outputId": "d87aa135-e3c0-4398-e34f-aa0512ff4113"
      },
      "source": [
        "print(compute_RMSE(model_dict, mode=\"train\"))"
      ],
      "execution_count": null,
      "outputs": [
        {
          "output_type": "stream",
          "text": [
            "tensor(1.9099)\n"
          ],
          "name": "stdout"
        }
      ]
    },
    {
      "cell_type": "code",
      "metadata": {
        "colab": {
          "base_uri": "https://localhost:8080/"
        },
        "id": "4rJPa3qW6mz7",
        "outputId": "532df187-40fe-4290-99f6-6680a5adc116"
      },
      "source": [
        "print(compute_RMSE(model_dict, mode=\"test\"))"
      ],
      "execution_count": null,
      "outputs": [
        {
          "output_type": "stream",
          "text": [
            "tensor(1.9220)\n"
          ],
          "name": "stdout"
        }
      ]
    },
    {
      "cell_type": "markdown",
      "metadata": {
        "id": "6SagiRfliXjF"
      },
      "source": [
        "### Validation on Cold Start Users (Paper Section 4.3.2):"
      ]
    },
    {
      "cell_type": "code",
      "metadata": {
        "id": "Dxe7Xw6nJEyb"
      },
      "source": [
        "# Mean Absolute Error For Cold Start Users\n",
        "def compute_MAE_cold_start(model_dict, mode=\"train\", threshold=5):\n",
        "    global ratings_data_train, ratings_data_test\n",
        "    nbi = np.load('drive/My Drive/SCFT_Project/npy_files/nbi.npy')\n",
        "    if mode == \"train\":\n",
        "        data = ratings_data_train\n",
        "    else:\n",
        "        data = ratings_data_test\n",
        "    AE = torch.tensor(0.0)\n",
        "    cnt = 0\n",
        "    for idx in range(len(data)):\n",
        "        user_id = int(data.iloc[idx][\"user_id\"])\n",
        "        if nbi[user_id-1] > threshold: # NOT A COLD START USER\n",
        "            continue\n",
        "        item_id = int(data.iloc[idx][\"item_id\"])\n",
        "        rating = (data.iloc[idx][\"rating\"]) * R_max\n",
        "        cnt += 1\n",
        "        AE += torch.abs(predict_rating(model_dict, user_id, item_id) - rating)\n",
        "    MAE = AE / cnt\n",
        "    return MAE"
      ],
      "execution_count": null,
      "outputs": []
    },
    {
      "cell_type": "code",
      "metadata": {
        "id": "xvlA3xwRJEuw"
      },
      "source": [
        "# Root Mean Square Error For Cold Start Users\n",
        "def compute_RMSE_cold_start(model_dict, mode=\"train\", threshold=5):\n",
        "    global ratings_data_train, ratings_data_test\n",
        "    nbi = np.load('drive/My Drive/SCFT_Project/npy_files/nbi.npy')\n",
        "    if mode == \"train\":\n",
        "        data = ratings_data_train\n",
        "    else:\n",
        "        data = ratings_data_test\n",
        "    SE = torch.tensor(0.0)\n",
        "    cnt = 0\n",
        "    for idx in range(len(data)):\n",
        "        user_id = int(data.iloc[idx][\"user_id\"])\n",
        "        if nbi[user_id-1] > threshold: # NOT A COLD START USER\n",
        "            continue\n",
        "        item_id = int(data.iloc[idx][\"item_id\"])\n",
        "        rating = (data.iloc[idx][\"rating\"]) * R_max\n",
        "        cnt += 1\n",
        "        SE += ((predict_rating(model_dict, user_id, item_id) - rating).pow(2))\n",
        "    MSE = SE / cnt\n",
        "    RMSE = torch.sqrt(MSE)\n",
        "    return RMSE"
      ],
      "execution_count": null,
      "outputs": []
    },
    {
      "cell_type": "code",
      "metadata": {
        "id": "fZ4V38bK69lp"
      },
      "source": [
        "model_dict = get_model_parameters(15, 33)"
      ],
      "execution_count": null,
      "outputs": []
    },
    {
      "cell_type": "code",
      "metadata": {
        "colab": {
          "base_uri": "https://localhost:8080/"
        },
        "id": "vZjIHOAG-O-0",
        "outputId": "fddb137b-efcd-4371-8ecb-1a536088f52b"
      },
      "source": [
        "print(compute_MAE_cold_start(model_dict, mode=\"train\"))"
      ],
      "execution_count": null,
      "outputs": [
        {
          "output_type": "stream",
          "text": [
            "tensor(1.8496)\n"
          ],
          "name": "stdout"
        }
      ]
    },
    {
      "cell_type": "code",
      "metadata": {
        "colab": {
          "base_uri": "https://localhost:8080/"
        },
        "id": "CDEKyNip-O4T",
        "outputId": "05a22f77-6c28-4eb3-9f91-d2451e874da2"
      },
      "source": [
        "print(compute_MAE_cold_start(model_dict, mode=\"test\"))"
      ],
      "execution_count": null,
      "outputs": [
        {
          "output_type": "stream",
          "text": [
            "tensor(1.8444)\n"
          ],
          "name": "stdout"
        }
      ]
    },
    {
      "cell_type": "code",
      "metadata": {
        "colab": {
          "base_uri": "https://localhost:8080/"
        },
        "id": "3c7jRYU5-O7r",
        "outputId": "d2f080c7-bf37-45df-98f1-f403a29165b2"
      },
      "source": [
        "print(compute_RMSE_cold_start(model_dict, mode=\"train\"))"
      ],
      "execution_count": null,
      "outputs": [
        {
          "output_type": "stream",
          "text": [
            "tensor(1.9878)\n"
          ],
          "name": "stdout"
        }
      ]
    },
    {
      "cell_type": "code",
      "metadata": {
        "colab": {
          "base_uri": "https://localhost:8080/"
        },
        "id": "cKeqMNML-O0n",
        "outputId": "e15272ea-b4fe-42c0-9a48-d649725c9a37"
      },
      "source": [
        "print(compute_RMSE_cold_start(model_dict, mode=\"test\"))"
      ],
      "execution_count": null,
      "outputs": [
        {
          "output_type": "stream",
          "text": [
            "tensor(1.9855)\n"
          ],
          "name": "stdout"
        }
      ]
    },
    {
      "cell_type": "markdown",
      "metadata": {
        "id": "K7m38zxJ0s1x"
      },
      "source": [
        "### References:"
      ]
    },
    {
      "cell_type": "markdown",
      "metadata": {
        "id": "_wks5wWH7Wzg"
      },
      "source": [
        "##### Epinions Dataset:\n",
        "http://www.trustlet.org/downloaded_epinions.html  "
      ]
    }
  ]
}